{
  "nbformat": 4,
  "nbformat_minor": 0,
  "metadata": {
    "colab": {
      "name": "Regression .ipynb",
      "provenance": [],
      "collapsed_sections": [
        "SzECkz2GmLjw"
      ]
    },
    "kernelspec": {
      "name": "python3",
      "display_name": "Python 3"
    },
    "language_info": {
      "name": "python"
    }
  },
  "cells": [
    {
      "cell_type": "markdown",
      "metadata": {
        "id": "mFMZnYH46hTv"
      },
      "source": [
        "#No:01 Regression Project on Medical Cost Personal Dataset\n",
        "\n",
        "\n",
        "> Objective: \n",
        " 1. *Various regression algorithms on the real world dataset.*\n",
        "\n",
        "##Dataset (Medical Cost Personal Datasets)\n",
        "Columns\n",
        "\n",
        "**age:** age of primary beneficiary\n",
        "\n",
        "**sex:** insurance contractor gender, female, male\n",
        "\n",
        "**bmi:** Body mass index, providing an understanding of body, weights that are relatively high or low relative to height, objective index of body weight (kg / m ^ 2) using the ratio of height to weight, ideally 18.5 to 24.9\n",
        "\n",
        "**children:** Number of children covered by health insurance / Number of dependents\n",
        "\n",
        "**smoker: **Smoking\n",
        "\n",
        "**region:** the beneficiary's residential area in the US, northeast, southeast, southwest, northwest.\n",
        "\n",
        "**charges:** Individual medical costs billed by health insurance"
      ]
    },
    {
      "cell_type": "code",
      "metadata": {
        "id": "xJ-W-u0d9tbK"
      },
      "source": [
        "import warnings\n",
        "warnings.filterwarnings(\"ignore\")"
      ],
      "execution_count": 1,
      "outputs": []
    },
    {
      "cell_type": "markdown",
      "metadata": {
        "id": "zWdPYGPNOh69"
      },
      "source": [
        "### **Import the Libraries**"
      ]
    },
    {
      "cell_type": "code",
      "metadata": {
        "id": "6GKThpaK9wT5"
      },
      "source": [
        "import numpy as np        \n",
        "import pandas as pd     \n",
        "import matplotlib.pyplot as plt \n",
        "from sklearn.preprocessing import LabelEncoder\n",
        "from sklearn.model_selection import train_test_split\n",
        "from sklearn.preprocessing import StandardScaler\n",
        "from sklearn.linear_model import LinearRegression\n",
        "from sklearn.tree import DecisionTreeRegressor\n",
        "from sklearn.ensemble import RandomForestRegressor\n",
        "from sklearn.svm import SVR "
      ],
      "execution_count": 2,
      "outputs": []
    },
    {
      "cell_type": "markdown",
      "metadata": {
        "id": "f2zJmCrsO6Ma"
      },
      "source": [
        "### **Dataset**"
      ]
    },
    {
      "cell_type": "code",
      "metadata": {
        "id": "LU0VYMgy9b12",
        "colab": {
          "base_uri": "https://localhost:8080/"
        },
        "outputId": "2559642e-f85f-4ec1-d475-28e90cceb450"
      },
      "source": [
        "# Download the data\n",
        "!wget -O insurance.csv https://www.dropbox.com/s/mwgqgjbmfw0xa5p/insurance.csv?dl=0"
      ],
      "execution_count": 3,
      "outputs": [
        {
          "output_type": "stream",
          "name": "stdout",
          "text": [
            "--2021-12-20 21:30:54--  https://www.dropbox.com/s/mwgqgjbmfw0xa5p/insurance.csv?dl=0\n",
            "Resolving www.dropbox.com (www.dropbox.com)... 162.125.6.18, 2620:100:601d:18::a27d:512\n",
            "Connecting to www.dropbox.com (www.dropbox.com)|162.125.6.18|:443... connected.\n",
            "HTTP request sent, awaiting response... 301 Moved Permanently\n",
            "Location: /s/raw/mwgqgjbmfw0xa5p/insurance.csv [following]\n",
            "--2021-12-20 21:30:54--  https://www.dropbox.com/s/raw/mwgqgjbmfw0xa5p/insurance.csv\n",
            "Reusing existing connection to www.dropbox.com:443.\n",
            "HTTP request sent, awaiting response... 302 Found\n",
            "Location: https://uceeaf3b65c8e92125f8833a527a.dl.dropboxusercontent.com/cd/0/inline/BcP2nYZX8mh7HLO-gWL_M1xv2cnF7xINM1CO_GORUIyr4Xk83SkqBatpyuLek2KXZlXE8su3bq4yWWIuh_-hdgjL3aPXw2ef3mTtmM4Gc5Cz1Pu6MyTGeozmIVmo8InzokBkFK6YWaAEC7YJhFqehcRz/file# [following]\n",
            "--2021-12-20 21:30:54--  https://uceeaf3b65c8e92125f8833a527a.dl.dropboxusercontent.com/cd/0/inline/BcP2nYZX8mh7HLO-gWL_M1xv2cnF7xINM1CO_GORUIyr4Xk83SkqBatpyuLek2KXZlXE8su3bq4yWWIuh_-hdgjL3aPXw2ef3mTtmM4Gc5Cz1Pu6MyTGeozmIVmo8InzokBkFK6YWaAEC7YJhFqehcRz/file\n",
            "Resolving uceeaf3b65c8e92125f8833a527a.dl.dropboxusercontent.com (uceeaf3b65c8e92125f8833a527a.dl.dropboxusercontent.com)... 162.125.6.15, 2620:100:601c:15::a27d:60f\n",
            "Connecting to uceeaf3b65c8e92125f8833a527a.dl.dropboxusercontent.com (uceeaf3b65c8e92125f8833a527a.dl.dropboxusercontent.com)|162.125.6.15|:443... connected.\n",
            "HTTP request sent, awaiting response... 200 OK\n",
            "Length: 55628 (54K) [text/plain]\n",
            "Saving to: ‘insurance.csv’\n",
            "\n",
            "insurance.csv       100%[===================>]  54.32K  --.-KB/s    in 0.002s  \n",
            "\n",
            "2021-12-20 21:30:55 (25.1 MB/s) - ‘insurance.csv’ saved [55628/55628]\n",
            "\n"
          ]
        }
      ]
    },
    {
      "cell_type": "code",
      "metadata": {
        "id": "u5ADp_5l9gce",
        "colab": {
          "base_uri": "https://localhost:8080/",
          "height": 423
        },
        "outputId": "2a30c382-a619-4caf-b58d-006c9a7772b0"
      },
      "source": [
        "\"\"\"importing the dataset \"\"\"\n",
        "\n",
        "dataset = pd.read_csv('insurance.csv')\n",
        "dataset"
      ],
      "execution_count": 16,
      "outputs": [
        {
          "output_type": "execute_result",
          "data": {
            "text/html": [
              "\n",
              "  <div id=\"df-92fb3f2a-4fc3-4147-a69e-a2266d281a18\">\n",
              "    <div class=\"colab-df-container\">\n",
              "      <div>\n",
              "<style scoped>\n",
              "    .dataframe tbody tr th:only-of-type {\n",
              "        vertical-align: middle;\n",
              "    }\n",
              "\n",
              "    .dataframe tbody tr th {\n",
              "        vertical-align: top;\n",
              "    }\n",
              "\n",
              "    .dataframe thead th {\n",
              "        text-align: right;\n",
              "    }\n",
              "</style>\n",
              "<table border=\"1\" class=\"dataframe\">\n",
              "  <thead>\n",
              "    <tr style=\"text-align: right;\">\n",
              "      <th></th>\n",
              "      <th>age</th>\n",
              "      <th>sex</th>\n",
              "      <th>bmi</th>\n",
              "      <th>children</th>\n",
              "      <th>smoker</th>\n",
              "      <th>region</th>\n",
              "      <th>charges</th>\n",
              "    </tr>\n",
              "  </thead>\n",
              "  <tbody>\n",
              "    <tr>\n",
              "      <th>0</th>\n",
              "      <td>19</td>\n",
              "      <td>female</td>\n",
              "      <td>27.900</td>\n",
              "      <td>0</td>\n",
              "      <td>yes</td>\n",
              "      <td>southwest</td>\n",
              "      <td>16884.92400</td>\n",
              "    </tr>\n",
              "    <tr>\n",
              "      <th>1</th>\n",
              "      <td>18</td>\n",
              "      <td>male</td>\n",
              "      <td>33.770</td>\n",
              "      <td>1</td>\n",
              "      <td>no</td>\n",
              "      <td>southeast</td>\n",
              "      <td>1725.55230</td>\n",
              "    </tr>\n",
              "    <tr>\n",
              "      <th>2</th>\n",
              "      <td>28</td>\n",
              "      <td>male</td>\n",
              "      <td>33.000</td>\n",
              "      <td>3</td>\n",
              "      <td>no</td>\n",
              "      <td>southeast</td>\n",
              "      <td>4449.46200</td>\n",
              "    </tr>\n",
              "    <tr>\n",
              "      <th>3</th>\n",
              "      <td>33</td>\n",
              "      <td>male</td>\n",
              "      <td>22.705</td>\n",
              "      <td>0</td>\n",
              "      <td>no</td>\n",
              "      <td>northwest</td>\n",
              "      <td>21984.47061</td>\n",
              "    </tr>\n",
              "    <tr>\n",
              "      <th>4</th>\n",
              "      <td>32</td>\n",
              "      <td>male</td>\n",
              "      <td>28.880</td>\n",
              "      <td>0</td>\n",
              "      <td>no</td>\n",
              "      <td>northwest</td>\n",
              "      <td>3866.85520</td>\n",
              "    </tr>\n",
              "    <tr>\n",
              "      <th>...</th>\n",
              "      <td>...</td>\n",
              "      <td>...</td>\n",
              "      <td>...</td>\n",
              "      <td>...</td>\n",
              "      <td>...</td>\n",
              "      <td>...</td>\n",
              "      <td>...</td>\n",
              "    </tr>\n",
              "    <tr>\n",
              "      <th>1333</th>\n",
              "      <td>50</td>\n",
              "      <td>male</td>\n",
              "      <td>30.970</td>\n",
              "      <td>3</td>\n",
              "      <td>no</td>\n",
              "      <td>northwest</td>\n",
              "      <td>10600.54830</td>\n",
              "    </tr>\n",
              "    <tr>\n",
              "      <th>1334</th>\n",
              "      <td>18</td>\n",
              "      <td>female</td>\n",
              "      <td>31.920</td>\n",
              "      <td>0</td>\n",
              "      <td>no</td>\n",
              "      <td>northeast</td>\n",
              "      <td>2205.98080</td>\n",
              "    </tr>\n",
              "    <tr>\n",
              "      <th>1335</th>\n",
              "      <td>18</td>\n",
              "      <td>female</td>\n",
              "      <td>36.850</td>\n",
              "      <td>0</td>\n",
              "      <td>no</td>\n",
              "      <td>southeast</td>\n",
              "      <td>1629.83350</td>\n",
              "    </tr>\n",
              "    <tr>\n",
              "      <th>1336</th>\n",
              "      <td>21</td>\n",
              "      <td>female</td>\n",
              "      <td>25.800</td>\n",
              "      <td>0</td>\n",
              "      <td>no</td>\n",
              "      <td>southwest</td>\n",
              "      <td>2007.94500</td>\n",
              "    </tr>\n",
              "    <tr>\n",
              "      <th>1337</th>\n",
              "      <td>61</td>\n",
              "      <td>female</td>\n",
              "      <td>29.070</td>\n",
              "      <td>0</td>\n",
              "      <td>yes</td>\n",
              "      <td>northwest</td>\n",
              "      <td>29141.36030</td>\n",
              "    </tr>\n",
              "  </tbody>\n",
              "</table>\n",
              "<p>1338 rows × 7 columns</p>\n",
              "</div>\n",
              "      <button class=\"colab-df-convert\" onclick=\"convertToInteractive('df-92fb3f2a-4fc3-4147-a69e-a2266d281a18')\"\n",
              "              title=\"Convert this dataframe to an interactive table.\"\n",
              "              style=\"display:none;\">\n",
              "        \n",
              "  <svg xmlns=\"http://www.w3.org/2000/svg\" height=\"24px\"viewBox=\"0 0 24 24\"\n",
              "       width=\"24px\">\n",
              "    <path d=\"M0 0h24v24H0V0z\" fill=\"none\"/>\n",
              "    <path d=\"M18.56 5.44l.94 2.06.94-2.06 2.06-.94-2.06-.94-.94-2.06-.94 2.06-2.06.94zm-11 1L8.5 8.5l.94-2.06 2.06-.94-2.06-.94L8.5 2.5l-.94 2.06-2.06.94zm10 10l.94 2.06.94-2.06 2.06-.94-2.06-.94-.94-2.06-.94 2.06-2.06.94z\"/><path d=\"M17.41 7.96l-1.37-1.37c-.4-.4-.92-.59-1.43-.59-.52 0-1.04.2-1.43.59L10.3 9.45l-7.72 7.72c-.78.78-.78 2.05 0 2.83L4 21.41c.39.39.9.59 1.41.59.51 0 1.02-.2 1.41-.59l7.78-7.78 2.81-2.81c.8-.78.8-2.07 0-2.86zM5.41 20L4 18.59l7.72-7.72 1.47 1.35L5.41 20z\"/>\n",
              "  </svg>\n",
              "      </button>\n",
              "      \n",
              "  <style>\n",
              "    .colab-df-container {\n",
              "      display:flex;\n",
              "      flex-wrap:wrap;\n",
              "      gap: 12px;\n",
              "    }\n",
              "\n",
              "    .colab-df-convert {\n",
              "      background-color: #E8F0FE;\n",
              "      border: none;\n",
              "      border-radius: 50%;\n",
              "      cursor: pointer;\n",
              "      display: none;\n",
              "      fill: #1967D2;\n",
              "      height: 32px;\n",
              "      padding: 0 0 0 0;\n",
              "      width: 32px;\n",
              "    }\n",
              "\n",
              "    .colab-df-convert:hover {\n",
              "      background-color: #E2EBFA;\n",
              "      box-shadow: 0px 1px 2px rgba(60, 64, 67, 0.3), 0px 1px 3px 1px rgba(60, 64, 67, 0.15);\n",
              "      fill: #174EA6;\n",
              "    }\n",
              "\n",
              "    [theme=dark] .colab-df-convert {\n",
              "      background-color: #3B4455;\n",
              "      fill: #D2E3FC;\n",
              "    }\n",
              "\n",
              "    [theme=dark] .colab-df-convert:hover {\n",
              "      background-color: #434B5C;\n",
              "      box-shadow: 0px 1px 3px 1px rgba(0, 0, 0, 0.15);\n",
              "      filter: drop-shadow(0px 1px 2px rgba(0, 0, 0, 0.3));\n",
              "      fill: #FFFFFF;\n",
              "    }\n",
              "  </style>\n",
              "\n",
              "      <script>\n",
              "        const buttonEl =\n",
              "          document.querySelector('#df-92fb3f2a-4fc3-4147-a69e-a2266d281a18 button.colab-df-convert');\n",
              "        buttonEl.style.display =\n",
              "          google.colab.kernel.accessAllowed ? 'block' : 'none';\n",
              "\n",
              "        async function convertToInteractive(key) {\n",
              "          const element = document.querySelector('#df-92fb3f2a-4fc3-4147-a69e-a2266d281a18');\n",
              "          const dataTable =\n",
              "            await google.colab.kernel.invokeFunction('convertToInteractive',\n",
              "                                                     [key], {});\n",
              "          if (!dataTable) return;\n",
              "\n",
              "          const docLinkHtml = 'Like what you see? Visit the ' +\n",
              "            '<a target=\"_blank\" href=https://colab.research.google.com/notebooks/data_table.ipynb>data table notebook</a>'\n",
              "            + ' to learn more about interactive tables.';\n",
              "          element.innerHTML = '';\n",
              "          dataTable['output_type'] = 'display_data';\n",
              "          await google.colab.output.renderOutput(dataTable, element);\n",
              "          const docLink = document.createElement('div');\n",
              "          docLink.innerHTML = docLinkHtml;\n",
              "          element.appendChild(docLink);\n",
              "        }\n",
              "      </script>\n",
              "    </div>\n",
              "  </div>\n",
              "  "
            ],
            "text/plain": [
              "      age     sex     bmi  children smoker     region      charges\n",
              "0      19  female  27.900         0    yes  southwest  16884.92400\n",
              "1      18    male  33.770         1     no  southeast   1725.55230\n",
              "2      28    male  33.000         3     no  southeast   4449.46200\n",
              "3      33    male  22.705         0     no  northwest  21984.47061\n",
              "4      32    male  28.880         0     no  northwest   3866.85520\n",
              "...   ...     ...     ...       ...    ...        ...          ...\n",
              "1333   50    male  30.970         3     no  northwest  10600.54830\n",
              "1334   18  female  31.920         0     no  northeast   2205.98080\n",
              "1335   18  female  36.850         0     no  southeast   1629.83350\n",
              "1336   21  female  25.800         0     no  southwest   2007.94500\n",
              "1337   61  female  29.070         0    yes  northwest  29141.36030\n",
              "\n",
              "[1338 rows x 7 columns]"
            ]
          },
          "metadata": {},
          "execution_count": 16
        }
      ]
    },
    {
      "cell_type": "code",
      "metadata": {
        "id": "F-bJSFY4Bbna"
      },
      "source": [
        "# Feature Columns\n",
        "features = dataset[['age', 'sex', 'bmi', 'children','smoker','region']]\n",
        "# Target Columns\n",
        "target = dataset[['charges']]"
      ],
      "execution_count": 17,
      "outputs": []
    },
    {
      "cell_type": "code",
      "metadata": {
        "id": "IL0eHIcZCOto"
      },
      "source": [
        "features"
      ],
      "execution_count": null,
      "outputs": []
    },
    {
      "cell_type": "markdown",
      "metadata": {
        "id": "4E8kSPWGPXQV"
      },
      "source": [
        "### **Label Encoding**"
      ]
    },
    {
      "cell_type": "code",
      "metadata": {
        "id": "5azKg6ykA2kz"
      },
      "source": [
        "from sklearn.preprocessing import LabelEncoder"
      ],
      "execution_count": 19,
      "outputs": []
    },
    {
      "cell_type": "code",
      "metadata": {
        "id": "TKGQpcXgA4Jf"
      },
      "source": [
        "labelencoder_f = LabelEncoder()\n",
        "#the country column is represented by numeric value\n",
        "features['sex'] = labelencoder_f.fit_transform(features['sex'])\n",
        "features['smoker'] = labelencoder_f.fit_transform(features['smoker'])"
      ],
      "execution_count": 20,
      "outputs": []
    },
    {
      "cell_type": "code",
      "metadata": {
        "id": "yX36g_mUA4GC"
      },
      "source": [
        "features"
      ],
      "execution_count": null,
      "outputs": []
    },
    {
      "cell_type": "markdown",
      "source": [
        "### Taking care of missing values"
      ],
      "metadata": {
        "id": "M-674urA95hf"
      }
    },
    {
      "cell_type": "code",
      "source": [
        "from sklearn.impute import SimpleImputer"
      ],
      "metadata": {
        "id": "uS_KK-yz9-Bz"
      },
      "execution_count": 26,
      "outputs": []
    },
    {
      "cell_type": "code",
      "source": [
        "imputer = SimpleImputer(missing_values=np.nan,strategy = \"mean\") # imputer is an object of Imputer class \n",
        "imputer = imputer.fit(features[['age', 'sex', 'bmi', 'children','smoker','region']])"
      ],
      "metadata": {
        "id": "aGa6gUZh-BPD"
      },
      "execution_count": null,
      "outputs": []
    },
    {
      "cell_type": "code",
      "source": [
        "features[['age', 'sex', 'bmi', 'children','smoker','region']]= imputer.transform(features[['age', 'sex', 'bmi', 'children','smoker','region']])"
      ],
      "metadata": {
        "id": "jKf1qVbc-EBD"
      },
      "execution_count": null,
      "outputs": []
    },
    {
      "cell_type": "code",
      "source": [
        "features"
      ],
      "metadata": {
        "colab": {
          "base_uri": "https://localhost:8080/",
          "height": 424
        },
        "id": "PgbHdHal-I55",
        "outputId": "0eddfaff-b003-44e7-9a28-a092e44fdf9c"
      },
      "execution_count": null,
      "outputs": [
        {
          "output_type": "execute_result",
          "data": {
            "text/html": [
              "\n",
              "  <div id=\"df-a4059ac9-df85-4fe7-98d0-3e4db627dd54\">\n",
              "    <div class=\"colab-df-container\">\n",
              "      <div>\n",
              "<style scoped>\n",
              "    .dataframe tbody tr th:only-of-type {\n",
              "        vertical-align: middle;\n",
              "    }\n",
              "\n",
              "    .dataframe tbody tr th {\n",
              "        vertical-align: top;\n",
              "    }\n",
              "\n",
              "    .dataframe thead th {\n",
              "        text-align: right;\n",
              "    }\n",
              "</style>\n",
              "<table border=\"1\" class=\"dataframe\">\n",
              "  <thead>\n",
              "    <tr style=\"text-align: right;\">\n",
              "      <th></th>\n",
              "      <th>age</th>\n",
              "      <th>sex</th>\n",
              "      <th>bmi</th>\n",
              "      <th>children</th>\n",
              "      <th>smoker</th>\n",
              "      <th>region</th>\n",
              "    </tr>\n",
              "  </thead>\n",
              "  <tbody>\n",
              "    <tr>\n",
              "      <th>0</th>\n",
              "      <td>19.0</td>\n",
              "      <td>0.0</td>\n",
              "      <td>27.900</td>\n",
              "      <td>0.0</td>\n",
              "      <td>1.0</td>\n",
              "      <td>3.0</td>\n",
              "    </tr>\n",
              "    <tr>\n",
              "      <th>1</th>\n",
              "      <td>18.0</td>\n",
              "      <td>1.0</td>\n",
              "      <td>33.770</td>\n",
              "      <td>1.0</td>\n",
              "      <td>0.0</td>\n",
              "      <td>2.0</td>\n",
              "    </tr>\n",
              "    <tr>\n",
              "      <th>2</th>\n",
              "      <td>28.0</td>\n",
              "      <td>1.0</td>\n",
              "      <td>33.000</td>\n",
              "      <td>3.0</td>\n",
              "      <td>0.0</td>\n",
              "      <td>2.0</td>\n",
              "    </tr>\n",
              "    <tr>\n",
              "      <th>3</th>\n",
              "      <td>33.0</td>\n",
              "      <td>1.0</td>\n",
              "      <td>22.705</td>\n",
              "      <td>0.0</td>\n",
              "      <td>0.0</td>\n",
              "      <td>1.0</td>\n",
              "    </tr>\n",
              "    <tr>\n",
              "      <th>4</th>\n",
              "      <td>32.0</td>\n",
              "      <td>1.0</td>\n",
              "      <td>28.880</td>\n",
              "      <td>0.0</td>\n",
              "      <td>0.0</td>\n",
              "      <td>1.0</td>\n",
              "    </tr>\n",
              "    <tr>\n",
              "      <th>...</th>\n",
              "      <td>...</td>\n",
              "      <td>...</td>\n",
              "      <td>...</td>\n",
              "      <td>...</td>\n",
              "      <td>...</td>\n",
              "      <td>...</td>\n",
              "    </tr>\n",
              "    <tr>\n",
              "      <th>1333</th>\n",
              "      <td>50.0</td>\n",
              "      <td>1.0</td>\n",
              "      <td>30.970</td>\n",
              "      <td>3.0</td>\n",
              "      <td>0.0</td>\n",
              "      <td>1.0</td>\n",
              "    </tr>\n",
              "    <tr>\n",
              "      <th>1334</th>\n",
              "      <td>18.0</td>\n",
              "      <td>0.0</td>\n",
              "      <td>31.920</td>\n",
              "      <td>0.0</td>\n",
              "      <td>0.0</td>\n",
              "      <td>0.0</td>\n",
              "    </tr>\n",
              "    <tr>\n",
              "      <th>1335</th>\n",
              "      <td>18.0</td>\n",
              "      <td>0.0</td>\n",
              "      <td>36.850</td>\n",
              "      <td>0.0</td>\n",
              "      <td>0.0</td>\n",
              "      <td>2.0</td>\n",
              "    </tr>\n",
              "    <tr>\n",
              "      <th>1336</th>\n",
              "      <td>21.0</td>\n",
              "      <td>0.0</td>\n",
              "      <td>25.800</td>\n",
              "      <td>0.0</td>\n",
              "      <td>0.0</td>\n",
              "      <td>3.0</td>\n",
              "    </tr>\n",
              "    <tr>\n",
              "      <th>1337</th>\n",
              "      <td>61.0</td>\n",
              "      <td>0.0</td>\n",
              "      <td>29.070</td>\n",
              "      <td>0.0</td>\n",
              "      <td>1.0</td>\n",
              "      <td>1.0</td>\n",
              "    </tr>\n",
              "  </tbody>\n",
              "</table>\n",
              "<p>1338 rows × 6 columns</p>\n",
              "</div>\n",
              "      <button class=\"colab-df-convert\" onclick=\"convertToInteractive('df-a4059ac9-df85-4fe7-98d0-3e4db627dd54')\"\n",
              "              title=\"Convert this dataframe to an interactive table.\"\n",
              "              style=\"display:none;\">\n",
              "        \n",
              "  <svg xmlns=\"http://www.w3.org/2000/svg\" height=\"24px\"viewBox=\"0 0 24 24\"\n",
              "       width=\"24px\">\n",
              "    <path d=\"M0 0h24v24H0V0z\" fill=\"none\"/>\n",
              "    <path d=\"M18.56 5.44l.94 2.06.94-2.06 2.06-.94-2.06-.94-.94-2.06-.94 2.06-2.06.94zm-11 1L8.5 8.5l.94-2.06 2.06-.94-2.06-.94L8.5 2.5l-.94 2.06-2.06.94zm10 10l.94 2.06.94-2.06 2.06-.94-2.06-.94-.94-2.06-.94 2.06-2.06.94z\"/><path d=\"M17.41 7.96l-1.37-1.37c-.4-.4-.92-.59-1.43-.59-.52 0-1.04.2-1.43.59L10.3 9.45l-7.72 7.72c-.78.78-.78 2.05 0 2.83L4 21.41c.39.39.9.59 1.41.59.51 0 1.02-.2 1.41-.59l7.78-7.78 2.81-2.81c.8-.78.8-2.07 0-2.86zM5.41 20L4 18.59l7.72-7.72 1.47 1.35L5.41 20z\"/>\n",
              "  </svg>\n",
              "      </button>\n",
              "      \n",
              "  <style>\n",
              "    .colab-df-container {\n",
              "      display:flex;\n",
              "      flex-wrap:wrap;\n",
              "      gap: 12px;\n",
              "    }\n",
              "\n",
              "    .colab-df-convert {\n",
              "      background-color: #E8F0FE;\n",
              "      border: none;\n",
              "      border-radius: 50%;\n",
              "      cursor: pointer;\n",
              "      display: none;\n",
              "      fill: #1967D2;\n",
              "      height: 32px;\n",
              "      padding: 0 0 0 0;\n",
              "      width: 32px;\n",
              "    }\n",
              "\n",
              "    .colab-df-convert:hover {\n",
              "      background-color: #E2EBFA;\n",
              "      box-shadow: 0px 1px 2px rgba(60, 64, 67, 0.3), 0px 1px 3px 1px rgba(60, 64, 67, 0.15);\n",
              "      fill: #174EA6;\n",
              "    }\n",
              "\n",
              "    [theme=dark] .colab-df-convert {\n",
              "      background-color: #3B4455;\n",
              "      fill: #D2E3FC;\n",
              "    }\n",
              "\n",
              "    [theme=dark] .colab-df-convert:hover {\n",
              "      background-color: #434B5C;\n",
              "      box-shadow: 0px 1px 3px 1px rgba(0, 0, 0, 0.15);\n",
              "      filter: drop-shadow(0px 1px 2px rgba(0, 0, 0, 0.3));\n",
              "      fill: #FFFFFF;\n",
              "    }\n",
              "  </style>\n",
              "\n",
              "      <script>\n",
              "        const buttonEl =\n",
              "          document.querySelector('#df-a4059ac9-df85-4fe7-98d0-3e4db627dd54 button.colab-df-convert');\n",
              "        buttonEl.style.display =\n",
              "          google.colab.kernel.accessAllowed ? 'block' : 'none';\n",
              "\n",
              "        async function convertToInteractive(key) {\n",
              "          const element = document.querySelector('#df-a4059ac9-df85-4fe7-98d0-3e4db627dd54');\n",
              "          const dataTable =\n",
              "            await google.colab.kernel.invokeFunction('convertToInteractive',\n",
              "                                                     [key], {});\n",
              "          if (!dataTable) return;\n",
              "\n",
              "          const docLinkHtml = 'Like what you see? Visit the ' +\n",
              "            '<a target=\"_blank\" href=https://colab.research.google.com/notebooks/data_table.ipynb>data table notebook</a>'\n",
              "            + ' to learn more about interactive tables.';\n",
              "          element.innerHTML = '';\n",
              "          dataTable['output_type'] = 'display_data';\n",
              "          await google.colab.output.renderOutput(dataTable, element);\n",
              "          const docLink = document.createElement('div');\n",
              "          docLink.innerHTML = docLinkHtml;\n",
              "          element.appendChild(docLink);\n",
              "        }\n",
              "      </script>\n",
              "    </div>\n",
              "  </div>\n",
              "  "
            ],
            "text/plain": [
              "       age  sex     bmi  children  smoker  region\n",
              "0     19.0  0.0  27.900       0.0     1.0     3.0\n",
              "1     18.0  1.0  33.770       1.0     0.0     2.0\n",
              "2     28.0  1.0  33.000       3.0     0.0     2.0\n",
              "3     33.0  1.0  22.705       0.0     0.0     1.0\n",
              "4     32.0  1.0  28.880       0.0     0.0     1.0\n",
              "...    ...  ...     ...       ...     ...     ...\n",
              "1333  50.0  1.0  30.970       3.0     0.0     1.0\n",
              "1334  18.0  0.0  31.920       0.0     0.0     0.0\n",
              "1335  18.0  0.0  36.850       0.0     0.0     2.0\n",
              "1336  21.0  0.0  25.800       0.0     0.0     3.0\n",
              "1337  61.0  0.0  29.070       0.0     1.0     1.0\n",
              "\n",
              "[1338 rows x 6 columns]"
            ]
          },
          "metadata": {},
          "execution_count": 203
        }
      ]
    },
    {
      "cell_type": "code",
      "source": [
        "imputer = SimpleImputer(missing_values=np.nan,strategy = \"mean\") # imputer is an object of Imputer class \n",
        "imputer = imputer.fit(target[['charges']])"
      ],
      "metadata": {
        "id": "OdDKb6XZD-Ez"
      },
      "execution_count": null,
      "outputs": []
    },
    {
      "cell_type": "code",
      "source": [
        "target[['charges']]= imputer.transform(target[['charges']])"
      ],
      "metadata": {
        "id": "0YvvA2IzEIgq"
      },
      "execution_count": null,
      "outputs": []
    },
    {
      "cell_type": "code",
      "source": [
        "target"
      ],
      "metadata": {
        "colab": {
          "base_uri": "https://localhost:8080/",
          "height": 424
        },
        "id": "oGhAH45LENuS",
        "outputId": "cd841486-77f4-44cb-cecc-6bae171c418a"
      },
      "execution_count": null,
      "outputs": [
        {
          "output_type": "execute_result",
          "data": {
            "text/html": [
              "\n",
              "  <div id=\"df-f6d50c28-d20b-474c-8c57-8aedb3ac9311\">\n",
              "    <div class=\"colab-df-container\">\n",
              "      <div>\n",
              "<style scoped>\n",
              "    .dataframe tbody tr th:only-of-type {\n",
              "        vertical-align: middle;\n",
              "    }\n",
              "\n",
              "    .dataframe tbody tr th {\n",
              "        vertical-align: top;\n",
              "    }\n",
              "\n",
              "    .dataframe thead th {\n",
              "        text-align: right;\n",
              "    }\n",
              "</style>\n",
              "<table border=\"1\" class=\"dataframe\">\n",
              "  <thead>\n",
              "    <tr style=\"text-align: right;\">\n",
              "      <th></th>\n",
              "      <th>charges</th>\n",
              "    </tr>\n",
              "  </thead>\n",
              "  <tbody>\n",
              "    <tr>\n",
              "      <th>0</th>\n",
              "      <td>16884.92400</td>\n",
              "    </tr>\n",
              "    <tr>\n",
              "      <th>1</th>\n",
              "      <td>1725.55230</td>\n",
              "    </tr>\n",
              "    <tr>\n",
              "      <th>2</th>\n",
              "      <td>4449.46200</td>\n",
              "    </tr>\n",
              "    <tr>\n",
              "      <th>3</th>\n",
              "      <td>21984.47061</td>\n",
              "    </tr>\n",
              "    <tr>\n",
              "      <th>4</th>\n",
              "      <td>3866.85520</td>\n",
              "    </tr>\n",
              "    <tr>\n",
              "      <th>...</th>\n",
              "      <td>...</td>\n",
              "    </tr>\n",
              "    <tr>\n",
              "      <th>1333</th>\n",
              "      <td>10600.54830</td>\n",
              "    </tr>\n",
              "    <tr>\n",
              "      <th>1334</th>\n",
              "      <td>2205.98080</td>\n",
              "    </tr>\n",
              "    <tr>\n",
              "      <th>1335</th>\n",
              "      <td>1629.83350</td>\n",
              "    </tr>\n",
              "    <tr>\n",
              "      <th>1336</th>\n",
              "      <td>2007.94500</td>\n",
              "    </tr>\n",
              "    <tr>\n",
              "      <th>1337</th>\n",
              "      <td>29141.36030</td>\n",
              "    </tr>\n",
              "  </tbody>\n",
              "</table>\n",
              "<p>1338 rows × 1 columns</p>\n",
              "</div>\n",
              "      <button class=\"colab-df-convert\" onclick=\"convertToInteractive('df-f6d50c28-d20b-474c-8c57-8aedb3ac9311')\"\n",
              "              title=\"Convert this dataframe to an interactive table.\"\n",
              "              style=\"display:none;\">\n",
              "        \n",
              "  <svg xmlns=\"http://www.w3.org/2000/svg\" height=\"24px\"viewBox=\"0 0 24 24\"\n",
              "       width=\"24px\">\n",
              "    <path d=\"M0 0h24v24H0V0z\" fill=\"none\"/>\n",
              "    <path d=\"M18.56 5.44l.94 2.06.94-2.06 2.06-.94-2.06-.94-.94-2.06-.94 2.06-2.06.94zm-11 1L8.5 8.5l.94-2.06 2.06-.94-2.06-.94L8.5 2.5l-.94 2.06-2.06.94zm10 10l.94 2.06.94-2.06 2.06-.94-2.06-.94-.94-2.06-.94 2.06-2.06.94z\"/><path d=\"M17.41 7.96l-1.37-1.37c-.4-.4-.92-.59-1.43-.59-.52 0-1.04.2-1.43.59L10.3 9.45l-7.72 7.72c-.78.78-.78 2.05 0 2.83L4 21.41c.39.39.9.59 1.41.59.51 0 1.02-.2 1.41-.59l7.78-7.78 2.81-2.81c.8-.78.8-2.07 0-2.86zM5.41 20L4 18.59l7.72-7.72 1.47 1.35L5.41 20z\"/>\n",
              "  </svg>\n",
              "      </button>\n",
              "      \n",
              "  <style>\n",
              "    .colab-df-container {\n",
              "      display:flex;\n",
              "      flex-wrap:wrap;\n",
              "      gap: 12px;\n",
              "    }\n",
              "\n",
              "    .colab-df-convert {\n",
              "      background-color: #E8F0FE;\n",
              "      border: none;\n",
              "      border-radius: 50%;\n",
              "      cursor: pointer;\n",
              "      display: none;\n",
              "      fill: #1967D2;\n",
              "      height: 32px;\n",
              "      padding: 0 0 0 0;\n",
              "      width: 32px;\n",
              "    }\n",
              "\n",
              "    .colab-df-convert:hover {\n",
              "      background-color: #E2EBFA;\n",
              "      box-shadow: 0px 1px 2px rgba(60, 64, 67, 0.3), 0px 1px 3px 1px rgba(60, 64, 67, 0.15);\n",
              "      fill: #174EA6;\n",
              "    }\n",
              "\n",
              "    [theme=dark] .colab-df-convert {\n",
              "      background-color: #3B4455;\n",
              "      fill: #D2E3FC;\n",
              "    }\n",
              "\n",
              "    [theme=dark] .colab-df-convert:hover {\n",
              "      background-color: #434B5C;\n",
              "      box-shadow: 0px 1px 3px 1px rgba(0, 0, 0, 0.15);\n",
              "      filter: drop-shadow(0px 1px 2px rgba(0, 0, 0, 0.3));\n",
              "      fill: #FFFFFF;\n",
              "    }\n",
              "  </style>\n",
              "\n",
              "      <script>\n",
              "        const buttonEl =\n",
              "          document.querySelector('#df-f6d50c28-d20b-474c-8c57-8aedb3ac9311 button.colab-df-convert');\n",
              "        buttonEl.style.display =\n",
              "          google.colab.kernel.accessAllowed ? 'block' : 'none';\n",
              "\n",
              "        async function convertToInteractive(key) {\n",
              "          const element = document.querySelector('#df-f6d50c28-d20b-474c-8c57-8aedb3ac9311');\n",
              "          const dataTable =\n",
              "            await google.colab.kernel.invokeFunction('convertToInteractive',\n",
              "                                                     [key], {});\n",
              "          if (!dataTable) return;\n",
              "\n",
              "          const docLinkHtml = 'Like what you see? Visit the ' +\n",
              "            '<a target=\"_blank\" href=https://colab.research.google.com/notebooks/data_table.ipynb>data table notebook</a>'\n",
              "            + ' to learn more about interactive tables.';\n",
              "          element.innerHTML = '';\n",
              "          dataTable['output_type'] = 'display_data';\n",
              "          await google.colab.output.renderOutput(dataTable, element);\n",
              "          const docLink = document.createElement('div');\n",
              "          docLink.innerHTML = docLinkHtml;\n",
              "          element.appendChild(docLink);\n",
              "        }\n",
              "      </script>\n",
              "    </div>\n",
              "  </div>\n",
              "  "
            ],
            "text/plain": [
              "          charges\n",
              "0     16884.92400\n",
              "1      1725.55230\n",
              "2      4449.46200\n",
              "3     21984.47061\n",
              "4      3866.85520\n",
              "...           ...\n",
              "1333  10600.54830\n",
              "1334   2205.98080\n",
              "1335   1629.83350\n",
              "1336   2007.94500\n",
              "1337  29141.36030\n",
              "\n",
              "[1338 rows x 1 columns]"
            ]
          },
          "metadata": {},
          "execution_count": 206
        }
      ]
    },
    {
      "cell_type": "markdown",
      "metadata": {
        "id": "qgMEwFM6PJQ8"
      },
      "source": [
        "### **Splitting Dataset**"
      ]
    },
    {
      "cell_type": "code",
      "metadata": {
        "id": "MLrOHTwcDGPP"
      },
      "source": [
        "from sklearn.model_selection import train_test_split"
      ],
      "execution_count": null,
      "outputs": []
    },
    {
      "cell_type": "code",
      "metadata": {
        "id": "W9khVh8_DHRp"
      },
      "source": [
        "\"\"\"Spliting the Dataset into Training Set and Test Set \"\"\"\n",
        "\n",
        "X_train,X_test,y_train,y_test=train_test_split(features,target,test_size = 0.2,random_state = 0)\n",
        "# random_state = 0 is select to get the same result"
      ],
      "execution_count": null,
      "outputs": []
    },
    {
      "cell_type": "code",
      "metadata": {
        "id": "O6_VUd3KDMfC",
        "colab": {
          "base_uri": "https://localhost:8080/"
        },
        "outputId": "999043bf-a4c2-4542-815f-5fc2173aad5a"
      },
      "source": [
        "print(X_train.shape)\n",
        "print(X_test.shape)"
      ],
      "execution_count": null,
      "outputs": [
        {
          "output_type": "stream",
          "name": "stdout",
          "text": [
            "(1070, 6)\n",
            "(268, 6)\n"
          ]
        }
      ]
    },
    {
      "cell_type": "markdown",
      "metadata": {
        "id": "gyrekZKMPtUf"
      },
      "source": [
        "### **Feature Scaling**"
      ]
    },
    {
      "cell_type": "code",
      "metadata": {
        "id": "d4gRByHwFip3"
      },
      "source": [
        "from sklearn.preprocessing import StandardScaler\n",
        "X_sc = StandardScaler()\n",
        "y_sc = StandardScaler()\n",
        "y_train = y_sc.fit_transform(y_train[['charges']])\n",
        "y_test = y_sc.transform(y_test[['charges']])"
      ],
      "execution_count": null,
      "outputs": []
    },
    {
      "cell_type": "markdown",
      "source": [
        "### Different types of Regression Algorithm\n",
        "\n",
        "1. Linear Regression (Univariate or Multivariate)\n",
        "2. Support Vector Regression\n",
        "3. Decision Tree Regression\n",
        "4. Random Forest Regressrion"
      ],
      "metadata": {
        "id": "SzECkz2GmLjw"
      }
    },
    {
      "cell_type": "markdown",
      "metadata": {
        "id": "yl9CDdnCPyNF"
      },
      "source": [
        "### **Simple Linear Regression**"
      ]
    },
    {
      "cell_type": "code",
      "metadata": {
        "id": "l5XmPFTXDNT3",
        "colab": {
          "base_uri": "https://localhost:8080/"
        },
        "outputId": "c0f4e896-b990-440d-f28d-0ae227caceb9"
      },
      "source": [
        "from sklearn.linear_model import LinearRegression\n",
        "\n",
        "\n",
        "regressor = LinearRegression()\n",
        "\n",
        "\n",
        "regressor.fit(X_train,y_train)"
      ],
      "execution_count": null,
      "outputs": [
        {
          "output_type": "execute_result",
          "data": {
            "text/plain": [
              "LinearRegression()"
            ]
          },
          "metadata": {},
          "execution_count": 211
        }
      ]
    },
    {
      "cell_type": "code",
      "metadata": {
        "id": "QPmNm5oTDS3_"
      },
      "source": [
        "# predicting the Test set Results\n",
        "y_pred = regressor.predict(X_test)"
      ],
      "execution_count": null,
      "outputs": []
    },
    {
      "cell_type": "code",
      "metadata": {
        "colab": {
          "base_uri": "https://localhost:8080/"
        },
        "id": "-qoVX9vS_PCp",
        "outputId": "d5d1d5f6-e6af-4de4-fa4c-edbf800ade8b"
      },
      "source": [
        "regressor.score(X_train,y_train)"
      ],
      "execution_count": null,
      "outputs": [
        {
          "output_type": "execute_result",
          "data": {
            "text/plain": [
              "0.7368306228430945"
            ]
          },
          "metadata": {},
          "execution_count": 213
        }
      ]
    },
    {
      "cell_type": "code",
      "metadata": {
        "id": "13qUvnP9DaRf"
      },
      "source": [
        "y_test"
      ],
      "execution_count": null,
      "outputs": []
    },
    {
      "cell_type": "code",
      "metadata": {
        "id": "KK_nepLGDdY4",
        "colab": {
          "base_uri": "https://localhost:8080/",
          "height": 424
        },
        "outputId": "3e85ed2f-26bc-4f77-bc25-7be330d6c823"
      },
      "source": [
        "X_test"
      ],
      "execution_count": null,
      "outputs": [
        {
          "output_type": "execute_result",
          "data": {
            "text/html": [
              "\n",
              "  <div id=\"df-66e200f3-808a-47f5-8684-c977a85b5f54\">\n",
              "    <div class=\"colab-df-container\">\n",
              "      <div>\n",
              "<style scoped>\n",
              "    .dataframe tbody tr th:only-of-type {\n",
              "        vertical-align: middle;\n",
              "    }\n",
              "\n",
              "    .dataframe tbody tr th {\n",
              "        vertical-align: top;\n",
              "    }\n",
              "\n",
              "    .dataframe thead th {\n",
              "        text-align: right;\n",
              "    }\n",
              "</style>\n",
              "<table border=\"1\" class=\"dataframe\">\n",
              "  <thead>\n",
              "    <tr style=\"text-align: right;\">\n",
              "      <th></th>\n",
              "      <th>age</th>\n",
              "      <th>sex</th>\n",
              "      <th>bmi</th>\n",
              "      <th>children</th>\n",
              "      <th>smoker</th>\n",
              "      <th>region</th>\n",
              "    </tr>\n",
              "  </thead>\n",
              "  <tbody>\n",
              "    <tr>\n",
              "      <th>578</th>\n",
              "      <td>52.0</td>\n",
              "      <td>1.0</td>\n",
              "      <td>30.200</td>\n",
              "      <td>1.0</td>\n",
              "      <td>0.0</td>\n",
              "      <td>3.0</td>\n",
              "    </tr>\n",
              "    <tr>\n",
              "      <th>610</th>\n",
              "      <td>47.0</td>\n",
              "      <td>0.0</td>\n",
              "      <td>29.370</td>\n",
              "      <td>1.0</td>\n",
              "      <td>0.0</td>\n",
              "      <td>2.0</td>\n",
              "    </tr>\n",
              "    <tr>\n",
              "      <th>569</th>\n",
              "      <td>48.0</td>\n",
              "      <td>1.0</td>\n",
              "      <td>40.565</td>\n",
              "      <td>2.0</td>\n",
              "      <td>1.0</td>\n",
              "      <td>1.0</td>\n",
              "    </tr>\n",
              "    <tr>\n",
              "      <th>1034</th>\n",
              "      <td>61.0</td>\n",
              "      <td>1.0</td>\n",
              "      <td>38.380</td>\n",
              "      <td>0.0</td>\n",
              "      <td>0.0</td>\n",
              "      <td>1.0</td>\n",
              "    </tr>\n",
              "    <tr>\n",
              "      <th>198</th>\n",
              "      <td>51.0</td>\n",
              "      <td>0.0</td>\n",
              "      <td>18.050</td>\n",
              "      <td>0.0</td>\n",
              "      <td>0.0</td>\n",
              "      <td>1.0</td>\n",
              "    </tr>\n",
              "    <tr>\n",
              "      <th>...</th>\n",
              "      <td>...</td>\n",
              "      <td>...</td>\n",
              "      <td>...</td>\n",
              "      <td>...</td>\n",
              "      <td>...</td>\n",
              "      <td>...</td>\n",
              "    </tr>\n",
              "    <tr>\n",
              "      <th>1084</th>\n",
              "      <td>62.0</td>\n",
              "      <td>0.0</td>\n",
              "      <td>30.495</td>\n",
              "      <td>2.0</td>\n",
              "      <td>0.0</td>\n",
              "      <td>1.0</td>\n",
              "    </tr>\n",
              "    <tr>\n",
              "      <th>726</th>\n",
              "      <td>41.0</td>\n",
              "      <td>1.0</td>\n",
              "      <td>28.405</td>\n",
              "      <td>1.0</td>\n",
              "      <td>0.0</td>\n",
              "      <td>1.0</td>\n",
              "    </tr>\n",
              "    <tr>\n",
              "      <th>1132</th>\n",
              "      <td>57.0</td>\n",
              "      <td>1.0</td>\n",
              "      <td>40.280</td>\n",
              "      <td>0.0</td>\n",
              "      <td>0.0</td>\n",
              "      <td>0.0</td>\n",
              "    </tr>\n",
              "    <tr>\n",
              "      <th>725</th>\n",
              "      <td>30.0</td>\n",
              "      <td>0.0</td>\n",
              "      <td>39.050</td>\n",
              "      <td>3.0</td>\n",
              "      <td>1.0</td>\n",
              "      <td>2.0</td>\n",
              "    </tr>\n",
              "    <tr>\n",
              "      <th>963</th>\n",
              "      <td>46.0</td>\n",
              "      <td>1.0</td>\n",
              "      <td>24.795</td>\n",
              "      <td>3.0</td>\n",
              "      <td>0.0</td>\n",
              "      <td>0.0</td>\n",
              "    </tr>\n",
              "  </tbody>\n",
              "</table>\n",
              "<p>268 rows × 6 columns</p>\n",
              "</div>\n",
              "      <button class=\"colab-df-convert\" onclick=\"convertToInteractive('df-66e200f3-808a-47f5-8684-c977a85b5f54')\"\n",
              "              title=\"Convert this dataframe to an interactive table.\"\n",
              "              style=\"display:none;\">\n",
              "        \n",
              "  <svg xmlns=\"http://www.w3.org/2000/svg\" height=\"24px\"viewBox=\"0 0 24 24\"\n",
              "       width=\"24px\">\n",
              "    <path d=\"M0 0h24v24H0V0z\" fill=\"none\"/>\n",
              "    <path d=\"M18.56 5.44l.94 2.06.94-2.06 2.06-.94-2.06-.94-.94-2.06-.94 2.06-2.06.94zm-11 1L8.5 8.5l.94-2.06 2.06-.94-2.06-.94L8.5 2.5l-.94 2.06-2.06.94zm10 10l.94 2.06.94-2.06 2.06-.94-2.06-.94-.94-2.06-.94 2.06-2.06.94z\"/><path d=\"M17.41 7.96l-1.37-1.37c-.4-.4-.92-.59-1.43-.59-.52 0-1.04.2-1.43.59L10.3 9.45l-7.72 7.72c-.78.78-.78 2.05 0 2.83L4 21.41c.39.39.9.59 1.41.59.51 0 1.02-.2 1.41-.59l7.78-7.78 2.81-2.81c.8-.78.8-2.07 0-2.86zM5.41 20L4 18.59l7.72-7.72 1.47 1.35L5.41 20z\"/>\n",
              "  </svg>\n",
              "      </button>\n",
              "      \n",
              "  <style>\n",
              "    .colab-df-container {\n",
              "      display:flex;\n",
              "      flex-wrap:wrap;\n",
              "      gap: 12px;\n",
              "    }\n",
              "\n",
              "    .colab-df-convert {\n",
              "      background-color: #E8F0FE;\n",
              "      border: none;\n",
              "      border-radius: 50%;\n",
              "      cursor: pointer;\n",
              "      display: none;\n",
              "      fill: #1967D2;\n",
              "      height: 32px;\n",
              "      padding: 0 0 0 0;\n",
              "      width: 32px;\n",
              "    }\n",
              "\n",
              "    .colab-df-convert:hover {\n",
              "      background-color: #E2EBFA;\n",
              "      box-shadow: 0px 1px 2px rgba(60, 64, 67, 0.3), 0px 1px 3px 1px rgba(60, 64, 67, 0.15);\n",
              "      fill: #174EA6;\n",
              "    }\n",
              "\n",
              "    [theme=dark] .colab-df-convert {\n",
              "      background-color: #3B4455;\n",
              "      fill: #D2E3FC;\n",
              "    }\n",
              "\n",
              "    [theme=dark] .colab-df-convert:hover {\n",
              "      background-color: #434B5C;\n",
              "      box-shadow: 0px 1px 3px 1px rgba(0, 0, 0, 0.15);\n",
              "      filter: drop-shadow(0px 1px 2px rgba(0, 0, 0, 0.3));\n",
              "      fill: #FFFFFF;\n",
              "    }\n",
              "  </style>\n",
              "\n",
              "      <script>\n",
              "        const buttonEl =\n",
              "          document.querySelector('#df-66e200f3-808a-47f5-8684-c977a85b5f54 button.colab-df-convert');\n",
              "        buttonEl.style.display =\n",
              "          google.colab.kernel.accessAllowed ? 'block' : 'none';\n",
              "\n",
              "        async function convertToInteractive(key) {\n",
              "          const element = document.querySelector('#df-66e200f3-808a-47f5-8684-c977a85b5f54');\n",
              "          const dataTable =\n",
              "            await google.colab.kernel.invokeFunction('convertToInteractive',\n",
              "                                                     [key], {});\n",
              "          if (!dataTable) return;\n",
              "\n",
              "          const docLinkHtml = 'Like what you see? Visit the ' +\n",
              "            '<a target=\"_blank\" href=https://colab.research.google.com/notebooks/data_table.ipynb>data table notebook</a>'\n",
              "            + ' to learn more about interactive tables.';\n",
              "          element.innerHTML = '';\n",
              "          dataTable['output_type'] = 'display_data';\n",
              "          await google.colab.output.renderOutput(dataTable, element);\n",
              "          const docLink = document.createElement('div');\n",
              "          docLink.innerHTML = docLinkHtml;\n",
              "          element.appendChild(docLink);\n",
              "        }\n",
              "      </script>\n",
              "    </div>\n",
              "  </div>\n",
              "  "
            ],
            "text/plain": [
              "       age  sex     bmi  children  smoker  region\n",
              "578   52.0  1.0  30.200       1.0     0.0     3.0\n",
              "610   47.0  0.0  29.370       1.0     0.0     2.0\n",
              "569   48.0  1.0  40.565       2.0     1.0     1.0\n",
              "1034  61.0  1.0  38.380       0.0     0.0     1.0\n",
              "198   51.0  0.0  18.050       0.0     0.0     1.0\n",
              "...    ...  ...     ...       ...     ...     ...\n",
              "1084  62.0  0.0  30.495       2.0     0.0     1.0\n",
              "726   41.0  1.0  28.405       1.0     0.0     1.0\n",
              "1132  57.0  1.0  40.280       0.0     0.0     0.0\n",
              "725   30.0  0.0  39.050       3.0     1.0     2.0\n",
              "963   46.0  1.0  24.795       3.0     0.0     0.0\n",
              "\n",
              "[268 rows x 6 columns]"
            ]
          },
          "metadata": {},
          "execution_count": 215
        }
      ]
    },
    {
      "cell_type": "code",
      "metadata": {
        "id": "Pjn-KKbFDgkW",
        "colab": {
          "base_uri": "https://localhost:8080/"
        },
        "outputId": "3fc54c21-1c1b-4658-8aeb-6510d9c4666a"
      },
      "source": [
        "y_pred"
      ],
      "execution_count": null,
      "outputs": [
        {
          "output_type": "execute_result",
          "data": {
            "text/plain": [
              "array([[-1.82397841e-01],\n",
              "       [-2.85099148e-01],\n",
              "       [ 2.07069569e+00],\n",
              "       [ 2.44003975e-01],\n",
              "       [-5.23689076e-01],\n",
              "       [-7.71045640e-01],\n",
              "       [-9.72926790e-01],\n",
              "       [ 9.03680276e-02],\n",
              "       [-3.54761076e-01],\n",
              "       [-4.81831323e-01],\n",
              "       [-7.22976711e-01],\n",
              "       [-2.46702450e-01],\n",
              "       [-3.79509044e-01],\n",
              "       [-7.57918614e-01],\n",
              "       [ 1.22019971e+00],\n",
              "       [-1.80529836e-01],\n",
              "       [-1.62836802e-01],\n",
              "       [-5.98833743e-01],\n",
              "       [-4.19907641e-01],\n",
              "       [ 1.15573478e+00],\n",
              "       [ 1.70180511e+00],\n",
              "       [ 8.90214986e-02],\n",
              "       [-1.26625563e-01],\n",
              "       [ 1.60401397e+00],\n",
              "       [-7.33827716e-01],\n",
              "       [-3.38672047e-01],\n",
              "       [-1.00833105e+00],\n",
              "       [-2.59908886e-01],\n",
              "       [-7.61123005e-01],\n",
              "       [-2.37545828e-01],\n",
              "       [-3.54025144e-01],\n",
              "       [ 2.25865181e+00],\n",
              "       [ 1.90146991e-01],\n",
              "       [ 3.89151803e-02],\n",
              "       [ 9.63818549e-01],\n",
              "       [-6.74078969e-01],\n",
              "       [-2.99239284e-02],\n",
              "       [ 1.44695638e+00],\n",
              "       [ 1.68936662e+00],\n",
              "       [-8.11207953e-01],\n",
              "       [-7.68278186e-01],\n",
              "       [-7.45239884e-01],\n",
              "       [ 1.44152480e+00],\n",
              "       [ 2.18381034e+00],\n",
              "       [ 1.23623931e+00],\n",
              "       [-6.84691036e-01],\n",
              "       [-1.89580850e-01],\n",
              "       [-4.52889275e-01],\n",
              "       [-8.01172357e-01],\n",
              "       [-2.20805121e-01],\n",
              "       [-6.32359617e-01],\n",
              "       [-8.20337141e-01],\n",
              "       [ 1.64082144e+00],\n",
              "       [ 2.10111294e+00],\n",
              "       [ 2.55120272e-01],\n",
              "       [-5.12693942e-01],\n",
              "       [-6.03721743e-01],\n",
              "       [-3.17640969e-01],\n",
              "       [-3.29340362e-01],\n",
              "       [-1.25777709e-01],\n",
              "       [-9.60617851e-01],\n",
              "       [ 2.13896226e+00],\n",
              "       [ 1.65331108e-01],\n",
              "       [-1.30166837e-01],\n",
              "       [ 6.50081332e-02],\n",
              "       [ 5.34949868e-02],\n",
              "       [ 1.07440023e+00],\n",
              "       [ 1.57777478e+00],\n",
              "       [-1.00472724e+00],\n",
              "       [-2.59068889e-01],\n",
              "       [-8.13655125e-02],\n",
              "       [-1.14224475e-01],\n",
              "       [ 9.90606910e-01],\n",
              "       [ 2.22401685e-01],\n",
              "       [-1.68622065e-01],\n",
              "       [-4.81195816e-02],\n",
              "       [-5.63409078e-01],\n",
              "       [-2.77505697e-01],\n",
              "       [ 1.41473961e+00],\n",
              "       [ 2.14423359e+00],\n",
              "       [-9.90977496e-02],\n",
              "       [ 2.02300285e+00],\n",
              "       [-7.55261588e-01],\n",
              "       [-3.30886920e-01],\n",
              "       [ 1.79793834e+00],\n",
              "       [ 1.33094409e+00],\n",
              "       [-3.97283938e-01],\n",
              "       [-6.99072231e-01],\n",
              "       [-1.07962513e-01],\n",
              "       [ 1.42215269e+00],\n",
              "       [-2.67733528e-01],\n",
              "       [-1.64046952e-01],\n",
              "       [-4.12753710e-01],\n",
              "       [-3.32703571e-01],\n",
              "       [-4.06262348e-01],\n",
              "       [-4.95581817e-01],\n",
              "       [ 1.89818018e+00],\n",
              "       [ 1.65336972e+00],\n",
              "       [-4.69958185e-01],\n",
              "       [ 1.42409851e-01],\n",
              "       [-7.45802041e-01],\n",
              "       [-3.74323628e-01],\n",
              "       [-5.51520686e-01],\n",
              "       [ 1.54966275e+00],\n",
              "       [ 1.64435668e+00],\n",
              "       [-9.38993072e-01],\n",
              "       [-3.56767285e-01],\n",
              "       [-5.52997055e-01],\n",
              "       [ 1.08054256e-01],\n",
              "       [ 1.98996617e+00],\n",
              "       [-2.55072202e-01],\n",
              "       [-2.03392281e-01],\n",
              "       [-2.53230336e-01],\n",
              "       [ 1.14197088e+00],\n",
              "       [ 2.24337940e+00],\n",
              "       [-3.96945901e-01],\n",
              "       [-1.08610904e+00],\n",
              "       [-3.60620720e-01],\n",
              "       [ 1.55339713e-01],\n",
              "       [-3.09553756e-01],\n",
              "       [ 1.85156717e+00],\n",
              "       [-4.94659566e-01],\n",
              "       [ 2.97686789e-01],\n",
              "       [-3.04373717e-01],\n",
              "       [-4.24121874e-01],\n",
              "       [-8.56322169e-01],\n",
              "       [ 1.64250043e+00],\n",
              "       [ 1.52241685e+00],\n",
              "       [ 2.18470010e+00],\n",
              "       [-6.46194567e-01],\n",
              "       [-2.99610213e-01],\n",
              "       [-7.81619525e-01],\n",
              "       [-4.39809622e-01],\n",
              "       [-3.81767761e-01],\n",
              "       [ 1.53134062e+00],\n",
              "       [ 1.38358067e+00],\n",
              "       [ 1.40842568e+00],\n",
              "       [-3.44303125e-01],\n",
              "       [ 1.63258421e+00],\n",
              "       [-8.27269517e-01],\n",
              "       [-8.00866708e-01],\n",
              "       [-1.77704607e-01],\n",
              "       [ 1.56122203e-02],\n",
              "       [-3.41197351e-02],\n",
              "       [-6.51252624e-01],\n",
              "       [ 2.19478374e-01],\n",
              "       [ 1.65558863e-01],\n",
              "       [-9.02825079e-01],\n",
              "       [-1.10290961e+00],\n",
              "       [-1.97691452e-01],\n",
              "       [-4.85557236e-01],\n",
              "       [ 1.56993854e+00],\n",
              "       [-7.37267932e-02],\n",
              "       [-8.84197683e-01],\n",
              "       [-5.73967149e-01],\n",
              "       [-4.21520208e-01],\n",
              "       [-7.39047255e-01],\n",
              "       [-9.02299711e-01],\n",
              "       [-1.57531458e-01],\n",
              "       [-6.22283432e-02],\n",
              "       [-5.00897235e-01],\n",
              "       [ 2.83633569e-01],\n",
              "       [-1.19115761e-01],\n",
              "       [ 5.69489279e-02],\n",
              "       [-8.34889923e-01],\n",
              "       [-4.98814774e-01],\n",
              "       [ 8.17832741e-01],\n",
              "       [-4.71337900e-01],\n",
              "       [-6.46500216e-01],\n",
              "       [-6.50711839e-01],\n",
              "       [-5.46418229e-01],\n",
              "       [-6.70473705e-01],\n",
              "       [-2.72728567e-01],\n",
              "       [-6.34079176e-01],\n",
              "       [-6.35855062e-01],\n",
              "       [-5.24970170e-01],\n",
              "       [-7.92936667e-01],\n",
              "       [-6.38990414e-01],\n",
              "       [ 2.07075801e+00],\n",
              "       [-9.80169502e-01],\n",
              "       [-5.31524924e-02],\n",
              "       [-3.59766159e-01],\n",
              "       [ 3.92957054e-02],\n",
              "       [-6.30781092e-01],\n",
              "       [-6.68265909e-01],\n",
              "       [ 1.93723427e+00],\n",
              "       [-7.41588498e-01],\n",
              "       [-9.42184609e-01],\n",
              "       [ 1.61154762e-01],\n",
              "       [-4.84000846e-02],\n",
              "       [ 1.82338369e+00],\n",
              "       [-6.78422268e-01],\n",
              "       [-6.37707383e-01],\n",
              "       [ 1.52966803e+00],\n",
              "       [-5.95216399e-01],\n",
              "       [-9.34093437e-01],\n",
              "       [-4.01391326e-01],\n",
              "       [-2.69971157e-01],\n",
              "       [-4.14676301e-01],\n",
              "       [-6.23694978e-01],\n",
              "       [-8.05709450e-03],\n",
              "       [ 2.12853404e+00],\n",
              "       [ 3.91472287e-02],\n",
              "       [ 1.29672593e+00],\n",
              "       [-5.43076702e-01],\n",
              "       [ 1.88243344e+00],\n",
              "       [-7.88829375e-01],\n",
              "       [-8.83949345e-02],\n",
              "       [-3.24589486e-01],\n",
              "       [-5.65250226e-01],\n",
              "       [-1.61460440e-01],\n",
              "       [ 1.08952047e-01],\n",
              "       [-6.73717724e-01],\n",
              "       [-7.44827045e-01],\n",
              "       [-4.54136063e-01],\n",
              "       [-9.99918993e-01],\n",
              "       [-4.48079237e-01],\n",
              "       [-7.32322990e-01],\n",
              "       [ 1.33368031e-03],\n",
              "       [-7.43298337e-01],\n",
              "       [-2.74144134e-01],\n",
              "       [-4.99661311e-01],\n",
              "       [-3.37931824e-01],\n",
              "       [-9.02605559e-01],\n",
              "       [-1.06098448e-02],\n",
              "       [ 2.94614177e-01],\n",
              "       [ 1.66132821e-01],\n",
              "       [-2.27285635e-01],\n",
              "       [-6.30202364e-01],\n",
              "       [-8.90430880e-01],\n",
              "       [-9.18239772e-01],\n",
              "       [ 1.56291997e-02],\n",
              "       [ 9.22957131e-02],\n",
              "       [-6.86593884e-01],\n",
              "       [-7.60174274e-01],\n",
              "       [-3.23824098e-01],\n",
              "       [-2.70824385e-01],\n",
              "       [ 1.25100807e+00],\n",
              "       [-4.66743998e-01],\n",
              "       [-2.26714272e-01],\n",
              "       [-5.85714590e-01],\n",
              "       [ 1.37830753e+00],\n",
              "       [-1.87398732e-01],\n",
              "       [-4.76481385e-01],\n",
              "       [-2.53334565e-01],\n",
              "       [-8.66639518e-02],\n",
              "       [-8.52835518e-01],\n",
              "       [-2.02958268e-01],\n",
              "       [-9.74060521e-01],\n",
              "       [-5.15146404e-01],\n",
              "       [ 1.29554175e+00],\n",
              "       [ 2.11329766e+00],\n",
              "       [-5.85128830e-01],\n",
              "       [-4.01806569e-01],\n",
              "       [-8.94758942e-01],\n",
              "       [-1.06615413e+00],\n",
              "       [-2.34891317e-01],\n",
              "       [-7.32170965e-01],\n",
              "       [-6.91905950e-01],\n",
              "       [-8.78305921e-01],\n",
              "       [-5.02832317e-01],\n",
              "       [ 1.67430749e+00],\n",
              "       [ 2.08314759e+00],\n",
              "       [ 1.25102029e-01],\n",
              "       [-4.16778912e-01],\n",
              "       [ 2.35360442e-01],\n",
              "       [ 1.66230939e+00],\n",
              "       [-3.11514235e-01]])"
            ]
          },
          "metadata": {},
          "execution_count": 216
        }
      ]
    },
    {
      "cell_type": "markdown",
      "metadata": {
        "id": "qW7ELdBgP587"
      },
      "source": [
        "### **Evaluation Matrices**\n",
        "\n",
        "1. Mean Absolute Error (MAE)\n",
        "2. Mean Squared Error (MSE)\n",
        "3. R-Squared Error"
      ]
    },
    {
      "cell_type": "code",
      "metadata": {
        "id": "9_GYiC3dDjk6",
        "colab": {
          "base_uri": "https://localhost:8080/"
        },
        "outputId": "852d1fbc-58ab-4c59-8e34-78f5bd3c7435"
      },
      "source": [
        "from sklearn.metrics import mean_absolute_error\n",
        "\n",
        "# MAE\n",
        "\n",
        "mean_absolute_error(y_test, y_pred)"
      ],
      "execution_count": null,
      "outputs": [
        {
          "output_type": "execute_result",
          "data": {
            "text/plain": [
              "0.328251006254937"
            ]
          },
          "metadata": {},
          "execution_count": 217
        }
      ]
    },
    {
      "cell_type": "code",
      "metadata": {
        "id": "a0nKlEYcD0o8",
        "colab": {
          "base_uri": "https://localhost:8080/"
        },
        "outputId": "6b8dc50c-06d6-4a02-cee1-7c0f1083466f"
      },
      "source": [
        "from sklearn.metrics import mean_squared_error\n",
        "\n",
        "mean_squared_error(y_test, y_pred)"
      ],
      "execution_count": null,
      "outputs": [
        {
          "output_type": "execute_result",
          "data": {
            "text/plain": [
              "0.22213004284614"
            ]
          },
          "metadata": {},
          "execution_count": 218
        }
      ]
    },
    {
      "cell_type": "code",
      "metadata": {
        "id": "_F1VoKk_D4ji",
        "colab": {
          "base_uri": "https://localhost:8080/"
        },
        "outputId": "1fbf156b-45bc-4088-82cc-6c6810179bbb"
      },
      "source": [
        "from sklearn.metrics import r2_score\n",
        "\n",
        "r2_score(y_test, y_pred)"
      ],
      "execution_count": null,
      "outputs": [
        {
          "output_type": "execute_result",
          "data": {
            "text/plain": [
              "0.7998747145449959"
            ]
          },
          "metadata": {},
          "execution_count": 219
        }
      ]
    },
    {
      "cell_type": "code",
      "source": [
        "regressor.score(X_train,y_train)"
      ],
      "metadata": {
        "colab": {
          "base_uri": "https://localhost:8080/"
        },
        "id": "eHHtMIWEiY7b",
        "outputId": "6bf15ae4-3378-42f9-c45e-3e806bb6cf16"
      },
      "execution_count": null,
      "outputs": [
        {
          "output_type": "execute_result",
          "data": {
            "text/plain": [
              "0.7368306228430945"
            ]
          },
          "metadata": {},
          "execution_count": 220
        }
      ]
    },
    {
      "cell_type": "markdown",
      "metadata": {
        "id": "aT-euXfCP_wM"
      },
      "source": [
        "### **Support Vector Regression**"
      ]
    },
    {
      "cell_type": "code",
      "metadata": {
        "id": "q7x0ftEpEAeE",
        "colab": {
          "base_uri": "https://localhost:8080/"
        },
        "outputId": "0d0896a9-d91f-43ae-ed44-1bceb275ec3d"
      },
      "source": [
        "# Fitting SVR to the dataset\n",
        "from sklearn.svm import SVR \n",
        "\n",
        "regressor = SVR(kernel = 'linear')\n",
        "regressor.fit(X_train,y_train)"
      ],
      "execution_count": null,
      "outputs": [
        {
          "output_type": "execute_result",
          "data": {
            "text/plain": [
              "SVR(kernel='linear')"
            ]
          },
          "metadata": {},
          "execution_count": 221
        }
      ]
    },
    {
      "cell_type": "code",
      "metadata": {
        "id": "YKvPost-EKR4"
      },
      "source": [
        "y_pred = regressor.predict(X_test)"
      ],
      "execution_count": null,
      "outputs": []
    },
    {
      "cell_type": "code",
      "metadata": {
        "colab": {
          "base_uri": "https://localhost:8080/"
        },
        "id": "UzPE3R3j_k8C",
        "outputId": "c62c61b2-6efe-41b5-9261-2b850092595d"
      },
      "source": [
        "regressor.score(X_train,y_train)"
      ],
      "execution_count": null,
      "outputs": [
        {
          "output_type": "execute_result",
          "data": {
            "text/plain": [
              "0.6795638290744734"
            ]
          },
          "metadata": {},
          "execution_count": 223
        }
      ]
    },
    {
      "cell_type": "code",
      "metadata": {
        "id": "Rl43Z1NbENhA",
        "colab": {
          "base_uri": "https://localhost:8080/"
        },
        "outputId": "716bc852-bc4a-4fbc-f95e-c0363fa05ef1"
      },
      "source": [
        "r2_score(y_test, y_pred)"
      ],
      "execution_count": null,
      "outputs": [
        {
          "output_type": "execute_result",
          "data": {
            "text/plain": [
              "0.7689076024715965"
            ]
          },
          "metadata": {},
          "execution_count": 224
        }
      ]
    },
    {
      "cell_type": "code",
      "metadata": {
        "id": "8_sNBgG9EziD",
        "colab": {
          "base_uri": "https://localhost:8080/"
        },
        "outputId": "9c70987c-991c-4375-f5ad-99b5c7087b80"
      },
      "source": [
        "mean_absolute_error(y_test, y_pred)"
      ],
      "execution_count": null,
      "outputs": [
        {
          "output_type": "execute_result",
          "data": {
            "text/plain": [
              "0.26206449818981736"
            ]
          },
          "metadata": {},
          "execution_count": 225
        }
      ]
    },
    {
      "cell_type": "code",
      "metadata": {
        "id": "okY-WZLjE0mc",
        "colab": {
          "base_uri": "https://localhost:8080/"
        },
        "outputId": "6964a959-09a6-4d49-a92b-c167b8505796"
      },
      "source": [
        "mean_squared_error(y_test, y_pred)"
      ],
      "execution_count": null,
      "outputs": [
        {
          "output_type": "execute_result",
          "data": {
            "text/plain": [
              "0.25650214088485607"
            ]
          },
          "metadata": {},
          "execution_count": 226
        }
      ]
    },
    {
      "cell_type": "markdown",
      "metadata": {
        "id": "M2_uHrnlQFXT"
      },
      "source": [
        "### **Decision Tree Regression**"
      ]
    },
    {
      "cell_type": "code",
      "metadata": {
        "id": "D5weq4mgEYAN",
        "colab": {
          "base_uri": "https://localhost:8080/"
        },
        "outputId": "cbe87ebb-eb33-4339-9b48-488817ea3661"
      },
      "source": [
        "from sklearn.tree import DecisionTreeRegressor\n",
        "\n",
        "\n",
        "regressor = DecisionTreeRegressor(random_state = 0)\n",
        "regressor.fit(X_train,y_train) \n"
      ],
      "execution_count": null,
      "outputs": [
        {
          "output_type": "execute_result",
          "data": {
            "text/plain": [
              "DecisionTreeRegressor(random_state=0)"
            ]
          },
          "metadata": {},
          "execution_count": 227
        }
      ]
    },
    {
      "cell_type": "code",
      "metadata": {
        "id": "pKyItVaREbHH",
        "colab": {
          "base_uri": "https://localhost:8080/"
        },
        "outputId": "45bcd4dc-6eaf-4851-bf6b-cd8dd29c092f"
      },
      "source": [
        "y_pred = regressor.predict(X_test)\n",
        "r2_score(y_test, y_pred)"
      ],
      "execution_count": null,
      "outputs": [
        {
          "output_type": "execute_result",
          "data": {
            "text/plain": [
              "0.6562575965127319"
            ]
          },
          "metadata": {},
          "execution_count": 228
        }
      ]
    },
    {
      "cell_type": "code",
      "metadata": {
        "colab": {
          "base_uri": "https://localhost:8080/"
        },
        "id": "cbgZy7I7_o0y",
        "outputId": "d15111c7-2a63-4ad6-ff94-9c103e51b91f"
      },
      "source": [
        "regressor.score(X_train,y_train)"
      ],
      "execution_count": null,
      "outputs": [
        {
          "output_type": "execute_result",
          "data": {
            "text/plain": [
              "0.9982963931606104"
            ]
          },
          "metadata": {},
          "execution_count": 229
        }
      ]
    },
    {
      "cell_type": "code",
      "source": [
        "mean_squared_error(y_test, y_pred)"
      ],
      "metadata": {
        "colab": {
          "base_uri": "https://localhost:8080/"
        },
        "id": "14ebj3z3kOc3",
        "outputId": "4fa6b33c-ff13-4f95-9273-9aacbcb74ed3"
      },
      "execution_count": null,
      "outputs": [
        {
          "output_type": "execute_result",
          "data": {
            "text/plain": [
              "0.3815385679079004"
            ]
          },
          "metadata": {},
          "execution_count": 230
        }
      ]
    },
    {
      "cell_type": "code",
      "source": [
        "mean_absolute_error(y_test, y_pred)"
      ],
      "metadata": {
        "colab": {
          "base_uri": "https://localhost:8080/"
        },
        "id": "Bq2w-9TMkRf5",
        "outputId": "bf9e6fd0-681d-4868-bcdf-a809e637ca8d"
      },
      "execution_count": null,
      "outputs": [
        {
          "output_type": "execute_result",
          "data": {
            "text/plain": [
              "0.3008404697042962"
            ]
          },
          "metadata": {},
          "execution_count": 231
        }
      ]
    },
    {
      "cell_type": "markdown",
      "metadata": {
        "id": "GRJCSf2cQKgd"
      },
      "source": [
        "### **Random Forest Regression**"
      ]
    },
    {
      "cell_type": "code",
      "metadata": {
        "id": "Q3u2iWjyEhq0",
        "colab": {
          "base_uri": "https://localhost:8080/"
        },
        "outputId": "2d1d7caf-80c1-4d66-ab25-37a606dbfd0f"
      },
      "source": [
        "# Fitting the Random Forest Regression with the dataset\n",
        "from sklearn.ensemble import RandomForestRegressor\n",
        "\n",
        "regressor = RandomForestRegressor(n_estimators = 10,random_state = 0) # n estiamator is the number of decision trees\n",
        "regressor.fit(X_train,y_train) "
      ],
      "execution_count": null,
      "outputs": [
        {
          "output_type": "execute_result",
          "data": {
            "text/plain": [
              "RandomForestRegressor(n_estimators=10, random_state=0)"
            ]
          },
          "metadata": {},
          "execution_count": 232
        }
      ]
    },
    {
      "cell_type": "code",
      "metadata": {
        "id": "f019ksPCEpKm",
        "colab": {
          "base_uri": "https://localhost:8080/"
        },
        "outputId": "012bd54b-de4d-42e8-c82d-7897af32e7ab"
      },
      "source": [
        "y_pred = regressor.predict(X_test)\n",
        "r2_score(y_test, y_pred)"
      ],
      "execution_count": null,
      "outputs": [
        {
          "output_type": "execute_result",
          "data": {
            "text/plain": [
              "0.8757214770662562"
            ]
          },
          "metadata": {},
          "execution_count": 233
        }
      ]
    },
    {
      "cell_type": "code",
      "metadata": {
        "colab": {
          "base_uri": "https://localhost:8080/"
        },
        "id": "8Hv7VGet_qi4",
        "outputId": "f3f13f68-8d67-4c52-fcc9-d6e8a789e770"
      },
      "source": [
        "regressor.score(X_train,y_train)"
      ],
      "execution_count": null,
      "outputs": [
        {
          "output_type": "execute_result",
          "data": {
            "text/plain": [
              "0.9644959129365694"
            ]
          },
          "metadata": {},
          "execution_count": 234
        }
      ]
    },
    {
      "cell_type": "code",
      "metadata": {
        "id": "jC2-m2aME2Ms",
        "colab": {
          "base_uri": "https://localhost:8080/"
        },
        "outputId": "e7c9d2d5-945e-4f92-846d-846925c1b62b"
      },
      "source": [
        "mean_absolute_error(y_test, y_pred)"
      ],
      "execution_count": null,
      "outputs": [
        {
          "output_type": "execute_result",
          "data": {
            "text/plain": [
              "0.2156241682333011"
            ]
          },
          "metadata": {},
          "execution_count": 235
        }
      ]
    },
    {
      "cell_type": "code",
      "metadata": {
        "id": "BMxJkPK6E3P5",
        "colab": {
          "base_uri": "https://localhost:8080/"
        },
        "outputId": "3a7a6609-13e9-4a9c-8860-e639efc6d6e4"
      },
      "source": [
        "mean_squared_error(y_test, y_pred)"
      ],
      "execution_count": null,
      "outputs": [
        {
          "output_type": "execute_result",
          "data": {
            "text/plain": [
              "0.1379435565144235"
            ]
          },
          "metadata": {},
          "execution_count": 236
        }
      ]
    },
    {
      "cell_type": "markdown",
      "source": [
        "## Discussion\n",
        "In this experiment, four alternative Regressor algorithms are used to do regression on the \"Medical Cost Personal Dataset,\" including Linear Regression, Support Vector Regression, Decision Tree Regression, and Rando Forest Regression. The libraries were first imported, after which the dataset was retrieved from storage and some preprocessing was performed, such as encoding, handling missing data, and feature scaling. The dataset's charges column was used as the target dataset, and the rest of the columns were used as features. The dataset is then divided into training and testing segments, with training data accounting for 80% of the total. Following the training of the data into regressors, evaluation matrices were utilized to assess the model's performance. The Random Forest Regressor has better evaluation matrices, according to the results analysis. "
      ],
      "metadata": {
        "id": "9_iMHT-Wl08c"
      }
    }
  ]
}