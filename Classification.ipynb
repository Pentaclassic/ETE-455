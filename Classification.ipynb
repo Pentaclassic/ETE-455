{
  "nbformat": 4,
  "nbformat_minor": 0,
  "metadata": {
    "colab": {
      "name": "Classification.ipynb",
      "provenance": [],
      "collapsed_sections": []
    },
    "kernelspec": {
      "name": "python3",
      "display_name": "Python 3"
    },
    "language_info": {
      "name": "python"
    }
  },
  "cells": [
    {
      "cell_type": "markdown",
      "source": [
        "# ETE-456: Stroke Prediction according to given dataset by classification  \n",
        "\n",
        "> Objective: \n",
        " 1. *Apply various classification algorithms on a real world dataset.*\n",
        "\n",
        "## Stroke Prediction Dataset\n",
        "**Context**: According to the World Health Organization (WHO) stroke is the 2nd leading cause of death globally, responsible for approximately 11% of total deaths. This dataset is used to predict whether a patient is likely to get stroke based on the input parameters like gender, age, various diseases, and smoking status. Each row in the data provides relavant information about the patient.\n",
        "\n",
        "### Attribute Information\n",
        "1. id: unique identifier\n",
        "2. gender: \"Male\", \"Female\" or \"Other\"\n",
        "3. age: age of the patient\n",
        "4. hypertension: 0 if the patient doesn't have hypertension, 1 if the patient has hypertension\n",
        "5. heart_disease: 0 if the patient doesn't have any heart diseases, 1 if the patient has a heart disease\n",
        "6. ever_married: \"No\" or \"Yes\"\n",
        "7. work_type: \"children\", \"Govt_jov\", \"Never_worked\", \"Private\" or \"Self-employed\"\n",
        "8. Residence_type: \"Rural\" or \"Urban\"\n",
        "9. avg_glucose_level: average glucose level in blood\n",
        "10. bmi: body mass index\n",
        "11. smoking_status: \"formerly smoked\", \"never smoked\", \"smokes\" or \"Unknown\"*\n",
        "12. stroke: 1 if the patient had a stroke or 0 if not *Note: \"Unknown\" in smoking_status means that the information is unavailable for this patient"
      ],
      "metadata": {
        "id": "49fJa8NZX1J5"
      }
    },
    {
      "cell_type": "code",
      "execution_count": 3,
      "metadata": {
        "id": "iAAX3-HDTg8e"
      },
      "outputs": [],
      "source": [
        "import warnings\n",
        "warnings.filterwarnings(\"ignore\")"
      ]
    },
    {
      "cell_type": "markdown",
      "source": [
        "** Import the Libraries**"
      ],
      "metadata": {
        "id": "eAkWDHwdWNxy"
      }
    },
    {
      "cell_type": "code",
      "source": [
        "import numpy as np        \n",
        "import pandas as pd     \n",
        "import matplotlib.pyplot as plt       \n",
        "\n",
        "# Machine learning libraries\n",
        "from sklearn.model_selection import train_test_split\n",
        "from sklearn.preprocessing import StandardScaler"
      ],
      "metadata": {
        "id": "tpoBt7C3Tybo"
      },
      "execution_count": 4,
      "outputs": []
    },
    {
      "cell_type": "markdown",
      "source": [
        "Dataset"
      ],
      "metadata": {
        "id": "5PTi0i5CW6fT"
      }
    },
    {
      "cell_type": "code",
      "source": [
        "# Download the data\n",
        "!wget -O stroke-data.csv https://www.dropbox.com/s/zgburk3yces5tee/healthcare-dataset-stroke-data.csv?dl=0"
      ],
      "metadata": {
        "id": "FAE7howJUAaC"
      },
      "execution_count": null,
      "outputs": []
    },
    {
      "cell_type": "code",
      "source": [
        "\"\"\"importing the dataset \"\"\"\n",
        "\n",
        "dataset = pd.read_csv('stroke-data.csv')\n",
        "dataset"
      ],
      "metadata": {
        "colab": {
          "base_uri": "https://localhost:8080/",
          "height": 423
        },
        "id": "Qzi4WnBlUUiz",
        "outputId": "e5289805-9aa1-49c6-e722-9efd22ab59db"
      },
      "execution_count": 6,
      "outputs": [
        {
          "output_type": "execute_result",
          "data": {
            "text/html": [
              "\n",
              "  <div id=\"df-85cc6198-70f6-4518-b98b-bff194bb4d23\">\n",
              "    <div class=\"colab-df-container\">\n",
              "      <div>\n",
              "<style scoped>\n",
              "    .dataframe tbody tr th:only-of-type {\n",
              "        vertical-align: middle;\n",
              "    }\n",
              "\n",
              "    .dataframe tbody tr th {\n",
              "        vertical-align: top;\n",
              "    }\n",
              "\n",
              "    .dataframe thead th {\n",
              "        text-align: right;\n",
              "    }\n",
              "</style>\n",
              "<table border=\"1\" class=\"dataframe\">\n",
              "  <thead>\n",
              "    <tr style=\"text-align: right;\">\n",
              "      <th></th>\n",
              "      <th>id</th>\n",
              "      <th>gender</th>\n",
              "      <th>age</th>\n",
              "      <th>hypertension</th>\n",
              "      <th>heart_disease</th>\n",
              "      <th>ever_married</th>\n",
              "      <th>work_type</th>\n",
              "      <th>Residence_type</th>\n",
              "      <th>avg_glucose_level</th>\n",
              "      <th>bmi</th>\n",
              "      <th>smoking_status</th>\n",
              "      <th>stroke</th>\n",
              "    </tr>\n",
              "  </thead>\n",
              "  <tbody>\n",
              "    <tr>\n",
              "      <th>0</th>\n",
              "      <td>9046</td>\n",
              "      <td>Male</td>\n",
              "      <td>67.0</td>\n",
              "      <td>0</td>\n",
              "      <td>1</td>\n",
              "      <td>Yes</td>\n",
              "      <td>Private</td>\n",
              "      <td>Urban</td>\n",
              "      <td>228.69</td>\n",
              "      <td>36.6</td>\n",
              "      <td>formerly smoked</td>\n",
              "      <td>1</td>\n",
              "    </tr>\n",
              "    <tr>\n",
              "      <th>1</th>\n",
              "      <td>51676</td>\n",
              "      <td>Female</td>\n",
              "      <td>61.0</td>\n",
              "      <td>0</td>\n",
              "      <td>0</td>\n",
              "      <td>Yes</td>\n",
              "      <td>Self-employed</td>\n",
              "      <td>Rural</td>\n",
              "      <td>202.21</td>\n",
              "      <td>NaN</td>\n",
              "      <td>never smoked</td>\n",
              "      <td>1</td>\n",
              "    </tr>\n",
              "    <tr>\n",
              "      <th>2</th>\n",
              "      <td>31112</td>\n",
              "      <td>Male</td>\n",
              "      <td>80.0</td>\n",
              "      <td>0</td>\n",
              "      <td>1</td>\n",
              "      <td>Yes</td>\n",
              "      <td>Private</td>\n",
              "      <td>Rural</td>\n",
              "      <td>105.92</td>\n",
              "      <td>32.5</td>\n",
              "      <td>never smoked</td>\n",
              "      <td>1</td>\n",
              "    </tr>\n",
              "    <tr>\n",
              "      <th>3</th>\n",
              "      <td>60182</td>\n",
              "      <td>Female</td>\n",
              "      <td>49.0</td>\n",
              "      <td>0</td>\n",
              "      <td>0</td>\n",
              "      <td>Yes</td>\n",
              "      <td>Private</td>\n",
              "      <td>Urban</td>\n",
              "      <td>171.23</td>\n",
              "      <td>34.4</td>\n",
              "      <td>smokes</td>\n",
              "      <td>1</td>\n",
              "    </tr>\n",
              "    <tr>\n",
              "      <th>4</th>\n",
              "      <td>1665</td>\n",
              "      <td>Female</td>\n",
              "      <td>79.0</td>\n",
              "      <td>1</td>\n",
              "      <td>0</td>\n",
              "      <td>Yes</td>\n",
              "      <td>Self-employed</td>\n",
              "      <td>Rural</td>\n",
              "      <td>174.12</td>\n",
              "      <td>24.0</td>\n",
              "      <td>never smoked</td>\n",
              "      <td>1</td>\n",
              "    </tr>\n",
              "    <tr>\n",
              "      <th>...</th>\n",
              "      <td>...</td>\n",
              "      <td>...</td>\n",
              "      <td>...</td>\n",
              "      <td>...</td>\n",
              "      <td>...</td>\n",
              "      <td>...</td>\n",
              "      <td>...</td>\n",
              "      <td>...</td>\n",
              "      <td>...</td>\n",
              "      <td>...</td>\n",
              "      <td>...</td>\n",
              "      <td>...</td>\n",
              "    </tr>\n",
              "    <tr>\n",
              "      <th>5105</th>\n",
              "      <td>18234</td>\n",
              "      <td>Female</td>\n",
              "      <td>80.0</td>\n",
              "      <td>1</td>\n",
              "      <td>0</td>\n",
              "      <td>Yes</td>\n",
              "      <td>Private</td>\n",
              "      <td>Urban</td>\n",
              "      <td>83.75</td>\n",
              "      <td>NaN</td>\n",
              "      <td>never smoked</td>\n",
              "      <td>0</td>\n",
              "    </tr>\n",
              "    <tr>\n",
              "      <th>5106</th>\n",
              "      <td>44873</td>\n",
              "      <td>Female</td>\n",
              "      <td>81.0</td>\n",
              "      <td>0</td>\n",
              "      <td>0</td>\n",
              "      <td>Yes</td>\n",
              "      <td>Self-employed</td>\n",
              "      <td>Urban</td>\n",
              "      <td>125.20</td>\n",
              "      <td>40.0</td>\n",
              "      <td>never smoked</td>\n",
              "      <td>0</td>\n",
              "    </tr>\n",
              "    <tr>\n",
              "      <th>5107</th>\n",
              "      <td>19723</td>\n",
              "      <td>Female</td>\n",
              "      <td>35.0</td>\n",
              "      <td>0</td>\n",
              "      <td>0</td>\n",
              "      <td>Yes</td>\n",
              "      <td>Self-employed</td>\n",
              "      <td>Rural</td>\n",
              "      <td>82.99</td>\n",
              "      <td>30.6</td>\n",
              "      <td>never smoked</td>\n",
              "      <td>0</td>\n",
              "    </tr>\n",
              "    <tr>\n",
              "      <th>5108</th>\n",
              "      <td>37544</td>\n",
              "      <td>Male</td>\n",
              "      <td>51.0</td>\n",
              "      <td>0</td>\n",
              "      <td>0</td>\n",
              "      <td>Yes</td>\n",
              "      <td>Private</td>\n",
              "      <td>Rural</td>\n",
              "      <td>166.29</td>\n",
              "      <td>25.6</td>\n",
              "      <td>formerly smoked</td>\n",
              "      <td>0</td>\n",
              "    </tr>\n",
              "    <tr>\n",
              "      <th>5109</th>\n",
              "      <td>44679</td>\n",
              "      <td>Female</td>\n",
              "      <td>44.0</td>\n",
              "      <td>0</td>\n",
              "      <td>0</td>\n",
              "      <td>Yes</td>\n",
              "      <td>Govt_job</td>\n",
              "      <td>Urban</td>\n",
              "      <td>85.28</td>\n",
              "      <td>26.2</td>\n",
              "      <td>Unknown</td>\n",
              "      <td>0</td>\n",
              "    </tr>\n",
              "  </tbody>\n",
              "</table>\n",
              "<p>5110 rows × 12 columns</p>\n",
              "</div>\n",
              "      <button class=\"colab-df-convert\" onclick=\"convertToInteractive('df-85cc6198-70f6-4518-b98b-bff194bb4d23')\"\n",
              "              title=\"Convert this dataframe to an interactive table.\"\n",
              "              style=\"display:none;\">\n",
              "        \n",
              "  <svg xmlns=\"http://www.w3.org/2000/svg\" height=\"24px\"viewBox=\"0 0 24 24\"\n",
              "       width=\"24px\">\n",
              "    <path d=\"M0 0h24v24H0V0z\" fill=\"none\"/>\n",
              "    <path d=\"M18.56 5.44l.94 2.06.94-2.06 2.06-.94-2.06-.94-.94-2.06-.94 2.06-2.06.94zm-11 1L8.5 8.5l.94-2.06 2.06-.94-2.06-.94L8.5 2.5l-.94 2.06-2.06.94zm10 10l.94 2.06.94-2.06 2.06-.94-2.06-.94-.94-2.06-.94 2.06-2.06.94z\"/><path d=\"M17.41 7.96l-1.37-1.37c-.4-.4-.92-.59-1.43-.59-.52 0-1.04.2-1.43.59L10.3 9.45l-7.72 7.72c-.78.78-.78 2.05 0 2.83L4 21.41c.39.39.9.59 1.41.59.51 0 1.02-.2 1.41-.59l7.78-7.78 2.81-2.81c.8-.78.8-2.07 0-2.86zM5.41 20L4 18.59l7.72-7.72 1.47 1.35L5.41 20z\"/>\n",
              "  </svg>\n",
              "      </button>\n",
              "      \n",
              "  <style>\n",
              "    .colab-df-container {\n",
              "      display:flex;\n",
              "      flex-wrap:wrap;\n",
              "      gap: 12px;\n",
              "    }\n",
              "\n",
              "    .colab-df-convert {\n",
              "      background-color: #E8F0FE;\n",
              "      border: none;\n",
              "      border-radius: 50%;\n",
              "      cursor: pointer;\n",
              "      display: none;\n",
              "      fill: #1967D2;\n",
              "      height: 32px;\n",
              "      padding: 0 0 0 0;\n",
              "      width: 32px;\n",
              "    }\n",
              "\n",
              "    .colab-df-convert:hover {\n",
              "      background-color: #E2EBFA;\n",
              "      box-shadow: 0px 1px 2px rgba(60, 64, 67, 0.3), 0px 1px 3px 1px rgba(60, 64, 67, 0.15);\n",
              "      fill: #174EA6;\n",
              "    }\n",
              "\n",
              "    [theme=dark] .colab-df-convert {\n",
              "      background-color: #3B4455;\n",
              "      fill: #D2E3FC;\n",
              "    }\n",
              "\n",
              "    [theme=dark] .colab-df-convert:hover {\n",
              "      background-color: #434B5C;\n",
              "      box-shadow: 0px 1px 3px 1px rgba(0, 0, 0, 0.15);\n",
              "      filter: drop-shadow(0px 1px 2px rgba(0, 0, 0, 0.3));\n",
              "      fill: #FFFFFF;\n",
              "    }\n",
              "  </style>\n",
              "\n",
              "      <script>\n",
              "        const buttonEl =\n",
              "          document.querySelector('#df-85cc6198-70f6-4518-b98b-bff194bb4d23 button.colab-df-convert');\n",
              "        buttonEl.style.display =\n",
              "          google.colab.kernel.accessAllowed ? 'block' : 'none';\n",
              "\n",
              "        async function convertToInteractive(key) {\n",
              "          const element = document.querySelector('#df-85cc6198-70f6-4518-b98b-bff194bb4d23');\n",
              "          const dataTable =\n",
              "            await google.colab.kernel.invokeFunction('convertToInteractive',\n",
              "                                                     [key], {});\n",
              "          if (!dataTable) return;\n",
              "\n",
              "          const docLinkHtml = 'Like what you see? Visit the ' +\n",
              "            '<a target=\"_blank\" href=https://colab.research.google.com/notebooks/data_table.ipynb>data table notebook</a>'\n",
              "            + ' to learn more about interactive tables.';\n",
              "          element.innerHTML = '';\n",
              "          dataTable['output_type'] = 'display_data';\n",
              "          await google.colab.output.renderOutput(dataTable, element);\n",
              "          const docLink = document.createElement('div');\n",
              "          docLink.innerHTML = docLinkHtml;\n",
              "          element.appendChild(docLink);\n",
              "        }\n",
              "      </script>\n",
              "    </div>\n",
              "  </div>\n",
              "  "
            ],
            "text/plain": [
              "         id  gender   age  ...   bmi   smoking_status stroke\n",
              "0      9046    Male  67.0  ...  36.6  formerly smoked      1\n",
              "1     51676  Female  61.0  ...   NaN     never smoked      1\n",
              "2     31112    Male  80.0  ...  32.5     never smoked      1\n",
              "3     60182  Female  49.0  ...  34.4           smokes      1\n",
              "4      1665  Female  79.0  ...  24.0     never smoked      1\n",
              "...     ...     ...   ...  ...   ...              ...    ...\n",
              "5105  18234  Female  80.0  ...   NaN     never smoked      0\n",
              "5106  44873  Female  81.0  ...  40.0     never smoked      0\n",
              "5107  19723  Female  35.0  ...  30.6     never smoked      0\n",
              "5108  37544    Male  51.0  ...  25.6  formerly smoked      0\n",
              "5109  44679  Female  44.0  ...  26.2          Unknown      0\n",
              "\n",
              "[5110 rows x 12 columns]"
            ]
          },
          "metadata": {},
          "execution_count": 6
        }
      ]
    },
    {
      "cell_type": "code",
      "source": [
        "dataset.columns"
      ],
      "metadata": {
        "colab": {
          "base_uri": "https://localhost:8080/"
        },
        "id": "kA_VmA7cZCbi",
        "outputId": "4ecce60e-245b-4faa-94cb-58e8ceb1dc66"
      },
      "execution_count": 7,
      "outputs": [
        {
          "output_type": "execute_result",
          "data": {
            "text/plain": [
              "Index(['id', 'gender', 'age', 'hypertension', 'heart_disease', 'ever_married',\n",
              "       'work_type', 'Residence_type', 'avg_glucose_level', 'bmi',\n",
              "       'smoking_status', 'stroke'],\n",
              "      dtype='object')"
            ]
          },
          "metadata": {},
          "execution_count": 7
        }
      ]
    },
    {
      "cell_type": "code",
      "source": [
        "feature = dataset[['age','hypertension','heart_disease', 'avg_glucose_level', 'bmi','smoking_status']]  # for independent\n",
        "target = dataset[['stroke']]   # for dependent"
      ],
      "metadata": {
        "id": "acsdobJqXh5T"
      },
      "execution_count": 51,
      "outputs": []
    },
    {
      "cell_type": "code",
      "source": [
        "feature.info()"
      ],
      "metadata": {
        "colab": {
          "base_uri": "https://localhost:8080/"
        },
        "id": "acwWm5kLaRPG",
        "outputId": "9dcb67bb-284a-474d-86a1-c4593735ca0e"
      },
      "execution_count": 10,
      "outputs": [
        {
          "output_type": "stream",
          "name": "stdout",
          "text": [
            "<class 'pandas.core.frame.DataFrame'>\n",
            "RangeIndex: 5110 entries, 0 to 5109\n",
            "Data columns (total 6 columns):\n",
            " #   Column             Non-Null Count  Dtype  \n",
            "---  ------             --------------  -----  \n",
            " 0   age                5110 non-null   float64\n",
            " 1   hypertension       5110 non-null   int64  \n",
            " 2   heart_disease      5110 non-null   int64  \n",
            " 3   avg_glucose_level  5110 non-null   float64\n",
            " 4   bmi                4909 non-null   float64\n",
            " 5   smoking_status     5110 non-null   object \n",
            "dtypes: float64(3), int64(2), object(1)\n",
            "memory usage: 239.7+ KB\n"
          ]
        }
      ]
    },
    {
      "cell_type": "code",
      "source": [
        "target.info()"
      ],
      "metadata": {
        "colab": {
          "base_uri": "https://localhost:8080/"
        },
        "id": "uF2yhet8as_Q",
        "outputId": "c48a7a7d-1aac-43de-eb50-7ae7571d0560"
      },
      "execution_count": 11,
      "outputs": [
        {
          "output_type": "stream",
          "name": "stdout",
          "text": [
            "<class 'pandas.core.frame.DataFrame'>\n",
            "RangeIndex: 5110 entries, 0 to 5109\n",
            "Data columns (total 1 columns):\n",
            " #   Column  Non-Null Count  Dtype\n",
            "---  ------  --------------  -----\n",
            " 0   stroke  5110 non-null   int64\n",
            "dtypes: int64(1)\n",
            "memory usage: 40.0 KB\n"
          ]
        }
      ]
    },
    {
      "cell_type": "code",
      "source": [
        "dataset.isnull().value_counts()"
      ],
      "metadata": {
        "colab": {
          "base_uri": "https://localhost:8080/"
        },
        "id": "RpwF6uW0KvFh",
        "outputId": "5bb542a9-2584-4b36-b716-a0dca0f22dc3"
      },
      "execution_count": 27,
      "outputs": [
        {
          "output_type": "execute_result",
          "data": {
            "text/plain": [
              "id     gender  age    hypertension  heart_disease  ever_married  work_type  Residence_type  avg_glucose_level  bmi    smoking_status  stroke\n",
              "False  False   False  False         False          False         False      False           False              False  False           False     4909\n",
              "                                                                                                               True   False           False      201\n",
              "dtype: int64"
            ]
          },
          "metadata": {},
          "execution_count": 27
        }
      ]
    },
    {
      "cell_type": "code",
      "source": [
        "feature"
      ],
      "metadata": {
        "id": "vjxC4ivOHNGK"
      },
      "execution_count": null,
      "outputs": []
    },
    {
      "cell_type": "code",
      "source": [
        "target"
      ],
      "metadata": {
        "id": "9fD_89PZHv0o"
      },
      "execution_count": null,
      "outputs": []
    },
    {
      "cell_type": "markdown",
      "source": [
        "#Taking care of missing values\n"
      ],
      "metadata": {
        "id": "qvgtGbU9H3WS"
      }
    },
    {
      "cell_type": "code",
      "source": [
        "from sklearn.impute import SimpleImputer"
      ],
      "metadata": {
        "id": "kZSrtaupH9Xi"
      },
      "execution_count": 54,
      "outputs": []
    },
    {
      "cell_type": "code",
      "source": [
        "mean_value=dataset['bmi'].mean()\n",
        "dataset['bmi'].fillna(value=mean_value, inplace=True)"
      ],
      "metadata": {
        "id": "M-_EA97DIGtS"
      },
      "execution_count": 55,
      "outputs": []
    },
    {
      "cell_type": "code",
      "source": [
        "dataset.isnull().value_counts()"
      ],
      "metadata": {
        "colab": {
          "base_uri": "https://localhost:8080/"
        },
        "id": "pIe_10x3MJKQ",
        "outputId": "4a1394ff-56aa-4b1d-a4d1-8f8de39fff5a"
      },
      "execution_count": 56,
      "outputs": [
        {
          "output_type": "execute_result",
          "data": {
            "text/plain": [
              "id     gender  age    hypertension  heart_disease  ever_married  work_type  Residence_type  avg_glucose_level  bmi    smoking_status  stroke\n",
              "False  False   False  False         False          False         False      False           False              False  False           False     5110\n",
              "dtype: int64"
            ]
          },
          "metadata": {},
          "execution_count": 56
        }
      ]
    },
    {
      "cell_type": "code",
      "source": [
        "dataset"
      ],
      "metadata": {
        "id": "Qj687TPTNa55"
      },
      "execution_count": null,
      "outputs": []
    },
    {
      "cell_type": "code",
      "source": [
        "feature"
      ],
      "metadata": {
        "id": "8Vdw13KsKIrt"
      },
      "execution_count": null,
      "outputs": []
    },
    {
      "cell_type": "code",
      "source": [
        "target"
      ],
      "metadata": {
        "id": "2dB_FmFtNp__"
      },
      "execution_count": null,
      "outputs": []
    },
    {
      "cell_type": "markdown",
      "source": [
        "#Encoding"
      ],
      "metadata": {
        "id": "Asn8Ej3QNvOz"
      }
    },
    {
      "cell_type": "code",
      "source": [
        "from sklearn.preprocessing import LabelEncoder , OneHotEncoder"
      ],
      "metadata": {
        "id": "bWCwhRwNbCCw"
      },
      "execution_count": 60,
      "outputs": []
    },
    {
      "cell_type": "code",
      "source": [
        "encoder=OneHotEncoder(sparse=False)\n",
        "encoded_labels = pd.DataFrame (encoder.fit_transform(feature[['smoking_status']]))"
      ],
      "metadata": {
        "id": "fEHm9b1sN4Gb"
      },
      "execution_count": 61,
      "outputs": []
    },
    {
      "cell_type": "code",
      "source": [
        "encoded_labels.columns = encoder.get_feature_names(['smoking_status'])\n",
        "dataset= pd.concat([feature, encoded_labels ], axis=1)"
      ],
      "metadata": {
        "id": "Y3xalZqnOnPr"
      },
      "execution_count": 63,
      "outputs": []
    },
    {
      "cell_type": "code",
      "source": [
        "dataset"
      ],
      "metadata": {
        "id": "5H4bBJ9NOrmk"
      },
      "execution_count": null,
      "outputs": []
    },
    {
      "cell_type": "code",
      "source": [
        "dataset.columns"
      ],
      "metadata": {
        "colab": {
          "base_uri": "https://localhost:8080/"
        },
        "id": "k18uwmrUOwvS",
        "outputId": "345054dd-4309-4e24-c179-c546b4d54182"
      },
      "execution_count": 65,
      "outputs": [
        {
          "output_type": "execute_result",
          "data": {
            "text/plain": [
              "Index(['age', 'hypertension', 'heart_disease', 'avg_glucose_level', 'bmi',\n",
              "       'smoking_status', 'smoking_status_Unknown',\n",
              "       'smoking_status_formerly smoked', 'smoking_status_never smoked',\n",
              "       'smoking_status_smokes'],\n",
              "      dtype='object')"
            ]
          },
          "metadata": {},
          "execution_count": 65
        }
      ]
    },
    {
      "cell_type": "code",
      "source": [
        "new_features = dataset[['age', 'hypertension', 'heart_disease', 'bmi',\n",
        "       'avg_glucose_level',\n",
        "       'smoking_status_Unknown',\n",
        "       'smoking_status_formerly smoked', 'smoking_status_never smoked',\n",
        "       'smoking_status_smokes']]"
      ],
      "metadata": {
        "id": "P7wWs3uwO1Qs"
      },
      "execution_count": 66,
      "outputs": []
    },
    {
      "cell_type": "markdown",
      "source": [
        "#Splitting Dataset"
      ],
      "metadata": {
        "id": "_x-Tt3TSO91v"
      }
    },
    {
      "cell_type": "code",
      "source": [
        "from sklearn.model_selection import train_test_split"
      ],
      "metadata": {
        "id": "u8YGUr5LO_N_"
      },
      "execution_count": 67,
      "outputs": []
    },
    {
      "cell_type": "code",
      "source": [
        "\"\"\"Spliting the Dataset into Training Set and Test Set \"\"\"\n",
        "\n",
        "X_train,X_test,y_train,y_test=train_test_split(new_features,target,test_size=0.2,random_state=0)"
      ],
      "metadata": {
        "id": "xuXL8UtYPD8B"
      },
      "execution_count": 71,
      "outputs": []
    },
    {
      "cell_type": "code",
      "source": [
        "print(X_train.shape)\n",
        "print(X_test.shape)"
      ],
      "metadata": {
        "colab": {
          "base_uri": "https://localhost:8080/"
        },
        "id": "m1mXAN4YPGhb",
        "outputId": "ec7d632b-d159-4c24-c296-f5093fa962a9"
      },
      "execution_count": 72,
      "outputs": [
        {
          "output_type": "stream",
          "name": "stdout",
          "text": [
            "(4088, 9)\n",
            "(1022, 9)\n"
          ]
        }
      ]
    },
    {
      "cell_type": "code",
      "source": [
        "X_test"
      ],
      "metadata": {
        "id": "cEKbwHemPLSm"
      },
      "execution_count": null,
      "outputs": []
    },
    {
      "cell_type": "markdown",
      "source": [
        "Different types of Regression Algorithm\n",
        "\n",
        "\n",
        "*   Logistic Regression\n",
        "*   K Nearest Neighbor (KNN)\n",
        "*   Decision Tree Classifier\n",
        "*   Random Forest Classifier\n",
        "*   Naive Bayes\n",
        "*   Support Vector Machine (SVM) "
      ],
      "metadata": {
        "id": "etPufp4aPZYl"
      }
    },
    {
      "cell_type": "markdown",
      "source": [
        "#Logistic Regression"
      ],
      "metadata": {
        "id": "kfHM1UH2PzZM"
      }
    },
    {
      "cell_type": "markdown",
      "source": [
        ""
      ],
      "metadata": {
        "id": "RWPbjA5sH4xB"
      }
    },
    {
      "cell_type": "code",
      "source": [
        "from sklearn.linear_model import LogisticRegression\n",
        "\n",
        "# Fitting Logistic Regression to the training dataset\n",
        "lr = LogisticRegression()\n",
        "\n",
        "lr.fit(X_train,y_train)"
      ],
      "metadata": {
        "colab": {
          "base_uri": "https://localhost:8080/"
        },
        "id": "-dx3xRYcP0Tk",
        "outputId": "27aa534e-adc3-4600-8024-90d43e72b0f2"
      },
      "execution_count": 74,
      "outputs": [
        {
          "output_type": "execute_result",
          "data": {
            "text/plain": [
              "LogisticRegression()"
            ]
          },
          "metadata": {},
          "execution_count": 74
        }
      ]
    },
    {
      "cell_type": "code",
      "source": [
        "# prediction\n",
        "y_pred = lr.predict(X_test)"
      ],
      "metadata": {
        "id": "dxwPwgLvP-vT"
      },
      "execution_count": 76,
      "outputs": []
    },
    {
      "cell_type": "code",
      "source": [
        "from sklearn.metrics import classification_report,confusion_matrix,accuracy_score,f1_score,precision_score,recall_score"
      ],
      "metadata": {
        "id": "UL6cy16ZQa9P"
      },
      "execution_count": 78,
      "outputs": []
    },
    {
      "cell_type": "code",
      "source": [
        "# Making confusing matrix (actual,prediction)\n",
        "confusion_matrix(y_test,y_pred)"
      ],
      "metadata": {
        "colab": {
          "base_uri": "https://localhost:8080/"
        },
        "id": "vxZTr6BUQk_4",
        "outputId": "28ec79fb-ff97-477e-819c-9d32d1eab729"
      },
      "execution_count": 79,
      "outputs": [
        {
          "output_type": "execute_result",
          "data": {
            "text/plain": [
              "array([[968,   0],\n",
              "       [ 54,   0]])"
            ]
          },
          "metadata": {},
          "execution_count": 79
        }
      ]
    },
    {
      "cell_type": "code",
      "source": [
        "# Making confusing matrix\n",
        "# it is used to check the accuracy of the classification\n",
        "print(classification_report(y_test,y_pred,target_names = ['No','Yes']))"
      ],
      "metadata": {
        "colab": {
          "base_uri": "https://localhost:8080/"
        },
        "id": "21kHbUV6QsTu",
        "outputId": "e59d8d56-6f23-4711-c1df-b2763a0566f3"
      },
      "execution_count": 80,
      "outputs": [
        {
          "output_type": "stream",
          "name": "stdout",
          "text": [
            "              precision    recall  f1-score   support\n",
            "\n",
            "          No       0.95      1.00      0.97       968\n",
            "         Yes       0.00      0.00      0.00        54\n",
            "\n",
            "    accuracy                           0.95      1022\n",
            "   macro avg       0.47      0.50      0.49      1022\n",
            "weighted avg       0.90      0.95      0.92      1022\n",
            "\n"
          ]
        }
      ]
    },
    {
      "cell_type": "markdown",
      "source": [
        "#KNN Classifiers"
      ],
      "metadata": {
        "id": "nsjcdDFwQzou"
      }
    },
    {
      "cell_type": "code",
      "source": [
        "from sklearn.neighbors import KNeighborsClassifier\n",
        "\n",
        "# Classifier Model\n",
        "classifier = KNeighborsClassifier(n_neighbors=3, metric = 'minkowski')\n",
        "classifier.fit(X_train,y_train)\n",
        "# Prediction\n",
        "y_pred = classifier.predict(X_test)"
      ],
      "metadata": {
        "id": "noMEMEIMQ0Vt"
      },
      "execution_count": 81,
      "outputs": []
    },
    {
      "cell_type": "code",
      "source": [
        "# Making confusing matrix\n",
        "print(confusion_matrix(y_test,y_pred))"
      ],
      "metadata": {
        "colab": {
          "base_uri": "https://localhost:8080/"
        },
        "id": "yz6-2_xLQ53-",
        "outputId": "33eeeb09-84bb-48e0-ae8c-55e76100a9ca"
      },
      "execution_count": 82,
      "outputs": [
        {
          "output_type": "stream",
          "name": "stdout",
          "text": [
            "[[955  13]\n",
            " [ 51   3]]\n"
          ]
        }
      ]
    },
    {
      "cell_type": "code",
      "source": [
        "# Making confusing matrix\n",
        "# it is used to check the accuracy of the classification\n",
        "print(classification_report(y_test,y_pred,target_names = ['No','Yes']))"
      ],
      "metadata": {
        "colab": {
          "base_uri": "https://localhost:8080/"
        },
        "id": "ir5Zg7hkRAFC",
        "outputId": "7148e9c7-3c51-4d1f-fa25-8c597f844141"
      },
      "execution_count": 83,
      "outputs": [
        {
          "output_type": "stream",
          "name": "stdout",
          "text": [
            "              precision    recall  f1-score   support\n",
            "\n",
            "          No       0.95      0.99      0.97       968\n",
            "         Yes       0.19      0.06      0.09        54\n",
            "\n",
            "    accuracy                           0.94      1022\n",
            "   macro avg       0.57      0.52      0.53      1022\n",
            "weighted avg       0.91      0.94      0.92      1022\n",
            "\n"
          ]
        }
      ]
    },
    {
      "cell_type": "markdown",
      "source": [
        "#Support Vector Machine"
      ],
      "metadata": {
        "id": "MOe38QGNROSF"
      }
    },
    {
      "cell_type": "code",
      "source": [
        "from sklearn.svm import SVC\n",
        "\n",
        "# Classifier Model\n",
        "classifier = SVC(kernel = 'linear', random_state = 42)\n",
        "classifier.fit(X_train,y_train)\n",
        "# Prediction\n",
        "y_pred = classifier.predict(X_test)"
      ],
      "metadata": {
        "id": "XIvZUS0YRPVg"
      },
      "execution_count": 84,
      "outputs": []
    },
    {
      "cell_type": "code",
      "source": [
        "# Making confusing matrix\n",
        "print(confusion_matrix(y_test,y_pred))"
      ],
      "metadata": {
        "colab": {
          "base_uri": "https://localhost:8080/"
        },
        "id": "QBgBSePaR01m",
        "outputId": "8d9c6327-ed32-459f-aa13-99a6e2e652dd"
      },
      "execution_count": 85,
      "outputs": [
        {
          "output_type": "stream",
          "name": "stdout",
          "text": [
            "[[968   0]\n",
            " [ 54   0]]\n"
          ]
        }
      ]
    },
    {
      "cell_type": "code",
      "source": [
        "# Making confusing matrix\n",
        "# it is used to check the accuracy of the classification\n",
        "print(classification_report(y_test,y_pred,target_names = ['No','Yes']))"
      ],
      "metadata": {
        "colab": {
          "base_uri": "https://localhost:8080/"
        },
        "id": "C9OPFARTR6wV",
        "outputId": "3b73e62e-04cf-4077-880f-901915bc139f"
      },
      "execution_count": 86,
      "outputs": [
        {
          "output_type": "stream",
          "name": "stdout",
          "text": [
            "              precision    recall  f1-score   support\n",
            "\n",
            "          No       0.95      1.00      0.97       968\n",
            "         Yes       0.00      0.00      0.00        54\n",
            "\n",
            "    accuracy                           0.95      1022\n",
            "   macro avg       0.47      0.50      0.49      1022\n",
            "weighted avg       0.90      0.95      0.92      1022\n",
            "\n"
          ]
        }
      ]
    },
    {
      "cell_type": "markdown",
      "source": [
        "#Decision Tree"
      ],
      "metadata": {
        "id": "qa-caZlASW2R"
      }
    },
    {
      "cell_type": "code",
      "source": [
        "from sklearn.tree import DecisionTreeClassifier\n",
        "# Classifier Model\n",
        "classifier = DecisionTreeClassifier(criterion = 'entropy', random_state = 0)\n",
        "classifier.fit(X_train,y_train)"
      ],
      "metadata": {
        "colab": {
          "base_uri": "https://localhost:8080/"
        },
        "id": "hCVsVRAHSXjl",
        "outputId": "b442749b-c0ff-409e-d6d9-0010344f7ee1"
      },
      "execution_count": 87,
      "outputs": [
        {
          "output_type": "execute_result",
          "data": {
            "text/plain": [
              "DecisionTreeClassifier(criterion='entropy', random_state=0)"
            ]
          },
          "metadata": {},
          "execution_count": 87
        }
      ]
    },
    {
      "cell_type": "code",
      "source": [
        "# Prediction\n",
        "y_pred = classifier.predict(X_test)"
      ],
      "metadata": {
        "id": "xP1jkeETSeNs"
      },
      "execution_count": 88,
      "outputs": []
    },
    {
      "cell_type": "code",
      "source": [
        "# Making confusing matrix\n",
        "print(confusion_matrix(y_test,y_pred))\n"
      ],
      "metadata": {
        "colab": {
          "base_uri": "https://localhost:8080/"
        },
        "id": "r4tgFGlMTBbI",
        "outputId": "492a0217-4097-49dc-bddf-0d8b3f443ee0"
      },
      "execution_count": 89,
      "outputs": [
        {
          "output_type": "stream",
          "name": "stdout",
          "text": [
            "[[914  54]\n",
            " [ 46   8]]\n"
          ]
        }
      ]
    },
    {
      "cell_type": "code",
      "source": [
        "# Making confusing matrix\n",
        "# it is used to check the accuracy of the classification\n",
        "print(classification_report(y_test,y_pred,target_names = ['No','Yes']))"
      ],
      "metadata": {
        "colab": {
          "base_uri": "https://localhost:8080/"
        },
        "id": "Me2UxwL0TcaU",
        "outputId": "4b9e5b7e-a24a-469c-9e7d-a2634369a706"
      },
      "execution_count": 90,
      "outputs": [
        {
          "output_type": "stream",
          "name": "stdout",
          "text": [
            "              precision    recall  f1-score   support\n",
            "\n",
            "          No       0.95      0.94      0.95       968\n",
            "         Yes       0.13      0.15      0.14        54\n",
            "\n",
            "    accuracy                           0.90      1022\n",
            "   macro avg       0.54      0.55      0.54      1022\n",
            "weighted avg       0.91      0.90      0.91      1022\n",
            "\n"
          ]
        }
      ]
    },
    {
      "cell_type": "markdown",
      "source": [
        "#Random Forest Classifier"
      ],
      "metadata": {
        "id": "G9ubFhMETheI"
      }
    },
    {
      "cell_type": "code",
      "source": [
        "from sklearn.ensemble import RandomForestClassifier\n",
        "# Classifier Model\n",
        "classifier = RandomForestClassifier(n_estimators=32, criterion ='entropy', random_state = 40)\n",
        "classifier.fit(X_train,y_train)"
      ],
      "metadata": {
        "colab": {
          "base_uri": "https://localhost:8080/"
        },
        "id": "UJs6QNqjTiM8",
        "outputId": "8d62ce46-bb31-40a3-ca69-0fbe47768b92"
      },
      "execution_count": 91,
      "outputs": [
        {
          "output_type": "execute_result",
          "data": {
            "text/plain": [
              "RandomForestClassifier(criterion='entropy', n_estimators=32, random_state=40)"
            ]
          },
          "metadata": {},
          "execution_count": 91
        }
      ]
    },
    {
      "cell_type": "code",
      "source": [
        "# Prediction\n",
        "y_pred = classifier.predict(X_test)"
      ],
      "metadata": {
        "id": "KDA8CVjST1IB"
      },
      "execution_count": 93,
      "outputs": []
    },
    {
      "cell_type": "code",
      "source": [
        "# Making confusing matrix\n",
        "print(confusion_matrix(y_test,y_pred))"
      ],
      "metadata": {
        "colab": {
          "base_uri": "https://localhost:8080/"
        },
        "id": "RARWaYnXT6Tz",
        "outputId": "fcec3d91-61c9-460c-8add-32223543fb95"
      },
      "execution_count": 94,
      "outputs": [
        {
          "output_type": "stream",
          "name": "stdout",
          "text": [
            "[[966   2]\n",
            " [ 53   1]]\n"
          ]
        }
      ]
    },
    {
      "cell_type": "code",
      "source": [
        "# Making confusing matrix\n",
        "# it is used to check the accuracy of the classification\n",
        "print(classification_report(y_test,y_pred,target_names = ['No','Yes']))"
      ],
      "metadata": {
        "colab": {
          "base_uri": "https://localhost:8080/"
        },
        "id": "bNv-5k4zUAHT",
        "outputId": "b645fa1a-21ab-499c-a6d9-0d2b00d964bf"
      },
      "execution_count": 95,
      "outputs": [
        {
          "output_type": "stream",
          "name": "stdout",
          "text": [
            "              precision    recall  f1-score   support\n",
            "\n",
            "          No       0.95      1.00      0.97       968\n",
            "         Yes       0.33      0.02      0.04        54\n",
            "\n",
            "    accuracy                           0.95      1022\n",
            "   macro avg       0.64      0.51      0.50      1022\n",
            "weighted avg       0.92      0.95      0.92      1022\n",
            "\n"
          ]
        }
      ]
    },
    {
      "cell_type": "markdown",
      "source": [
        "#Result Analysis\n",
        "\n",
        "To predict strok, different types of classification algorithm were applied on the dataset. The evaluation matrices is to  evaluate classification algorithms with  Precision, Recall, F1 Score and Accuracy. For  comparision among differnt algorithm performance, the weighted average of models with accuracy will be considered.\n",
        "\n",
        "#Logistic Regression\n",
        "\n",
        "Weighted Average Precision : 90%\n",
        "\n",
        "Weighted Average Recall : 95%\n",
        "\n",
        "Weighted Average F1-Score : **92**%\n",
        "\n",
        "Accuracy : 95%"
      ],
      "metadata": {
        "id": "YP3pkJL-ULTY"
      }
    },
    {
      "cell_type": "markdown",
      "source": [
        "#KNN Classifier\n",
        "\n",
        "Weighted Average Precision : 91%\n",
        "\n",
        "Weighted Average Recall : 94%\n",
        "\n",
        "Weighted Average F1-Score : 92%\n",
        "\n",
        "Accuracy : 94%"
      ],
      "metadata": {
        "id": "F5F-W2UOWCRK"
      }
    },
    {
      "cell_type": "markdown",
      "source": [
        "#Support Vector Machine\n",
        "Weighted Average Precision : 90%\n",
        "\n",
        "Weighted Average Recall : 95%\n",
        "\n",
        "Weighted Average F1-Score : 92%\n",
        "\n",
        "Accuracy : 95%"
      ],
      "metadata": {
        "id": "V5xVETKbWbUi"
      }
    },
    {
      "cell_type": "markdown",
      "source": [
        "#Decision Tree\n",
        "Weighted Average Precision : 91%\n",
        "\n",
        "Weighted Average Recall : 90%\n",
        "\n",
        "Weighted Average F1-Score : 91%\n",
        "\n",
        "Accuracy : 90%"
      ],
      "metadata": {
        "id": "Wk6mYt55WvlP"
      }
    },
    {
      "cell_type": "markdown",
      "source": [
        "#Random Forest Classifier\n",
        "Weighted Average Precision : 92%\n",
        "\n",
        "Weighted Average Recall : 95%\n",
        "\n",
        "Weighted Average F1-Score : 92%\n",
        "\n",
        "Accuracy : 95%"
      ],
      "metadata": {
        "id": "xgU6fw6YW8HE"
      }
    },
    {
      "cell_type": "markdown",
      "source": [
        "#Discussion\n",
        "In this project, several classifiers are used to predict Stroke from \"Stroke Dataset\". \n",
        "\n",
        "The classifiers used in this project are Logistic Regression, K-Nearest Neighbor, Support Vector Machine, Decision Tree & Random Forest Classifier.\n",
        "\n",
        "Necessary  libraries  were imported and then the given dataset was stored from dropbox.\n",
        " Data pre-processing was performed which includes encoding (label encoding, one hot encoding), feature scaling, taking care of missing files. Then the dataset was splitted and trained into the classifiers. Then some evaluation matrices were used to evaluate the the classifiers and the comparision based on evaluation was shown in Result Analysis. From the comparision, it is seen that the Random Forest Classifier has the highest evaalution values."
      ],
      "metadata": {
        "id": "GS0RiCG-bd9h"
      }
    }
  ]
}