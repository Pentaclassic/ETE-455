{
  "nbformat": 4,
  "nbformat_minor": 0,
  "metadata": {
    "colab": {
      "name": "Deep Neural Network ",
      "provenance": [],
      "collapsed_sections": [
        "Ct-gc5DE4hGs",
        "vYgjG34M7OjB"
      ]
    },
    "kernelspec": {
      "name": "python3",
      "display_name": "Python 3"
    },
    "language_info": {
      "name": "python"
    }
  },
  "cells": [
    {
      "cell_type": "markdown",
      "source": [
        "# Deep Learning Project on Diabetes Dataset\n",
        "\n",
        "\n",
        "> Objective: \n",
        " 1. *Classification problems using Deep Neural Network.*\n",
        " 2. Develop DNN models using Tensorflow Framework\n",
        "\n",
        " "
      ],
      "metadata": {
        "id": "-u6PvYE0VlkX"
      }
    },
    {
      "cell_type": "markdown",
      "source": [
        "## Diabetes Dataset\n",
        "\n",
        "This dataset is originally from the National Institute of Diabetes and Digestive and Kidney Diseases. The objective is to predict based on diagnostic measurements whether a patient has diabetes.\n",
        "\n",
        "### Content\n",
        "Several constraints were placed on the selection of these instances from a larger database. In particular, all patients here are females at least 21 years old of Pima Indian heritage.\n",
        "\n",
        "1. Pregnancies: Number of times pregnant\n",
        "2. Glucose: Plasma glucose concentration a 2 hours in an oral glucose tolerance test\n",
        "3. BloodPressure: Diastolic blood pressure (mm Hg)\n",
        "4. SkinThickness: Triceps skin fold thickness (mm)\n",
        "5. Insulin: 2-Hour serum insulin (mu U/ml)\n",
        "6. BMI: Body mass index (weight in kg/(height in m)^2)\n",
        "7. DiabetesPedigreeFunction: Diabetes pedigree function\n",
        "8. Age: Age (years)\n",
        "9. Outcome: Class variable (0 or 1)"
      ],
      "metadata": {
        "id": "jeQkhKa8WjRC"
      }
    },
    {
      "cell_type": "code",
      "execution_count": 2,
      "metadata": {
        "id": "UOmLnoTNgNy_"
      },
      "outputs": [],
      "source": [
        "import warnings\n",
        "warnings.filterwarnings(\"ignore\")"
      ]
    },
    {
      "cell_type": "markdown",
      "source": [
        "## Import Libraries"
      ],
      "metadata": {
        "id": "qs0qO2SPXQKv"
      }
    },
    {
      "cell_type": "code",
      "source": [
        "import numpy as np        \n",
        "import pandas as pd     \n",
        "import matplotlib.pyplot as plt \n",
        "from sklearn.model_selection import train_test_split\n",
        "from sklearn.preprocessing import StandardScaler"
      ],
      "metadata": {
        "id": "hQpm3kTsl4ZJ"
      },
      "execution_count": 3,
      "outputs": []
    },
    {
      "cell_type": "markdown",
      "source": [
        "## Dataset"
      ],
      "metadata": {
        "id": "GZsBjsZ5XWGW"
      }
    },
    {
      "cell_type": "code",
      "source": [
        "# Download the data\n",
        "!wget -O diabetes.csv  https://www.dropbox.com/s/sglreynnyx40pb6/diabetes.csv?dl=0"
      ],
      "metadata": {
        "colab": {
          "base_uri": "https://localhost:8080/"
        },
        "id": "EgVzVhwil-lX",
        "outputId": "03ffc431-fb01-43a9-8545-17754d71c704"
      },
      "execution_count": 4,
      "outputs": [
        {
          "output_type": "stream",
          "name": "stdout",
          "text": [
            "--2021-12-20 20:42:44--  https://www.dropbox.com/s/sglreynnyx40pb6/diabetes.csv?dl=0\n",
            "Resolving www.dropbox.com (www.dropbox.com)... 162.125.7.18, 2620:100:601c:18::a27d:612\n",
            "Connecting to www.dropbox.com (www.dropbox.com)|162.125.7.18|:443... connected.\n",
            "HTTP request sent, awaiting response... 301 Moved Permanently\n",
            "Location: /s/raw/sglreynnyx40pb6/diabetes.csv [following]\n",
            "--2021-12-20 20:42:44--  https://www.dropbox.com/s/raw/sglreynnyx40pb6/diabetes.csv\n",
            "Reusing existing connection to www.dropbox.com:443.\n",
            "HTTP request sent, awaiting response... 302 Found\n",
            "Location: https://uce40566a965d891ca27e80e33ee.dl.dropboxusercontent.com/cd/0/inline/BcNkhRSgoxMFLoIt0b7ArKNemJiBk1F2n57WHC1i3rz_4a7rybsg6yjz9yUqMKxD2000kE9zQHfBX1341iTaN0SfrHkvJHpUgSCNPI9JszvjJvjF5nsMywoz60QRdt1OFZMF54vsaPmTCDt4QbPJAxNG/file# [following]\n",
            "--2021-12-20 20:42:45--  https://uce40566a965d891ca27e80e33ee.dl.dropboxusercontent.com/cd/0/inline/BcNkhRSgoxMFLoIt0b7ArKNemJiBk1F2n57WHC1i3rz_4a7rybsg6yjz9yUqMKxD2000kE9zQHfBX1341iTaN0SfrHkvJHpUgSCNPI9JszvjJvjF5nsMywoz60QRdt1OFZMF54vsaPmTCDt4QbPJAxNG/file\n",
            "Resolving uce40566a965d891ca27e80e33ee.dl.dropboxusercontent.com (uce40566a965d891ca27e80e33ee.dl.dropboxusercontent.com)... 162.125.7.15, 2620:100:601f:15::a27d:90f\n",
            "Connecting to uce40566a965d891ca27e80e33ee.dl.dropboxusercontent.com (uce40566a965d891ca27e80e33ee.dl.dropboxusercontent.com)|162.125.7.15|:443... connected.\n",
            "HTTP request sent, awaiting response... 200 OK\n",
            "Length: 23873 (23K) [text/plain]\n",
            "Saving to: ‘diabetes.csv’\n",
            "\n",
            "diabetes.csv        100%[===================>]  23.31K  --.-KB/s    in 0.07s   \n",
            "\n",
            "2021-12-20 20:42:45 (343 KB/s) - ‘diabetes.csv’ saved [23873/23873]\n",
            "\n"
          ]
        }
      ]
    },
    {
      "cell_type": "code",
      "source": [
        "\"\"\"importing the dataset \"\"\"\n",
        "\n",
        "dataset = pd.read_csv('diabetes.csv')\n",
        "dataset"
      ],
      "metadata": {
        "colab": {
          "base_uri": "https://localhost:8080/",
          "height": 423
        },
        "id": "edKeJVK1mQEG",
        "outputId": "5df0f828-4264-4707-c2ff-a21de806505d"
      },
      "execution_count": 5,
      "outputs": [
        {
          "output_type": "execute_result",
          "data": {
            "text/html": [
              "\n",
              "  <div id=\"df-04ed72fa-1627-41cd-8569-a7afea955903\">\n",
              "    <div class=\"colab-df-container\">\n",
              "      <div>\n",
              "<style scoped>\n",
              "    .dataframe tbody tr th:only-of-type {\n",
              "        vertical-align: middle;\n",
              "    }\n",
              "\n",
              "    .dataframe tbody tr th {\n",
              "        vertical-align: top;\n",
              "    }\n",
              "\n",
              "    .dataframe thead th {\n",
              "        text-align: right;\n",
              "    }\n",
              "</style>\n",
              "<table border=\"1\" class=\"dataframe\">\n",
              "  <thead>\n",
              "    <tr style=\"text-align: right;\">\n",
              "      <th></th>\n",
              "      <th>Pregnancies</th>\n",
              "      <th>Glucose</th>\n",
              "      <th>BloodPressure</th>\n",
              "      <th>SkinThickness</th>\n",
              "      <th>Insulin</th>\n",
              "      <th>BMI</th>\n",
              "      <th>DiabetesPedigreeFunction</th>\n",
              "      <th>Age</th>\n",
              "      <th>Outcome</th>\n",
              "    </tr>\n",
              "  </thead>\n",
              "  <tbody>\n",
              "    <tr>\n",
              "      <th>0</th>\n",
              "      <td>6</td>\n",
              "      <td>148</td>\n",
              "      <td>72</td>\n",
              "      <td>35</td>\n",
              "      <td>0</td>\n",
              "      <td>33.6</td>\n",
              "      <td>0.627</td>\n",
              "      <td>50</td>\n",
              "      <td>1</td>\n",
              "    </tr>\n",
              "    <tr>\n",
              "      <th>1</th>\n",
              "      <td>1</td>\n",
              "      <td>85</td>\n",
              "      <td>66</td>\n",
              "      <td>29</td>\n",
              "      <td>0</td>\n",
              "      <td>26.6</td>\n",
              "      <td>0.351</td>\n",
              "      <td>31</td>\n",
              "      <td>0</td>\n",
              "    </tr>\n",
              "    <tr>\n",
              "      <th>2</th>\n",
              "      <td>8</td>\n",
              "      <td>183</td>\n",
              "      <td>64</td>\n",
              "      <td>0</td>\n",
              "      <td>0</td>\n",
              "      <td>23.3</td>\n",
              "      <td>0.672</td>\n",
              "      <td>32</td>\n",
              "      <td>1</td>\n",
              "    </tr>\n",
              "    <tr>\n",
              "      <th>3</th>\n",
              "      <td>1</td>\n",
              "      <td>89</td>\n",
              "      <td>66</td>\n",
              "      <td>23</td>\n",
              "      <td>94</td>\n",
              "      <td>28.1</td>\n",
              "      <td>0.167</td>\n",
              "      <td>21</td>\n",
              "      <td>0</td>\n",
              "    </tr>\n",
              "    <tr>\n",
              "      <th>4</th>\n",
              "      <td>0</td>\n",
              "      <td>137</td>\n",
              "      <td>40</td>\n",
              "      <td>35</td>\n",
              "      <td>168</td>\n",
              "      <td>43.1</td>\n",
              "      <td>2.288</td>\n",
              "      <td>33</td>\n",
              "      <td>1</td>\n",
              "    </tr>\n",
              "    <tr>\n",
              "      <th>...</th>\n",
              "      <td>...</td>\n",
              "      <td>...</td>\n",
              "      <td>...</td>\n",
              "      <td>...</td>\n",
              "      <td>...</td>\n",
              "      <td>...</td>\n",
              "      <td>...</td>\n",
              "      <td>...</td>\n",
              "      <td>...</td>\n",
              "    </tr>\n",
              "    <tr>\n",
              "      <th>763</th>\n",
              "      <td>10</td>\n",
              "      <td>101</td>\n",
              "      <td>76</td>\n",
              "      <td>48</td>\n",
              "      <td>180</td>\n",
              "      <td>32.9</td>\n",
              "      <td>0.171</td>\n",
              "      <td>63</td>\n",
              "      <td>0</td>\n",
              "    </tr>\n",
              "    <tr>\n",
              "      <th>764</th>\n",
              "      <td>2</td>\n",
              "      <td>122</td>\n",
              "      <td>70</td>\n",
              "      <td>27</td>\n",
              "      <td>0</td>\n",
              "      <td>36.8</td>\n",
              "      <td>0.340</td>\n",
              "      <td>27</td>\n",
              "      <td>0</td>\n",
              "    </tr>\n",
              "    <tr>\n",
              "      <th>765</th>\n",
              "      <td>5</td>\n",
              "      <td>121</td>\n",
              "      <td>72</td>\n",
              "      <td>23</td>\n",
              "      <td>112</td>\n",
              "      <td>26.2</td>\n",
              "      <td>0.245</td>\n",
              "      <td>30</td>\n",
              "      <td>0</td>\n",
              "    </tr>\n",
              "    <tr>\n",
              "      <th>766</th>\n",
              "      <td>1</td>\n",
              "      <td>126</td>\n",
              "      <td>60</td>\n",
              "      <td>0</td>\n",
              "      <td>0</td>\n",
              "      <td>30.1</td>\n",
              "      <td>0.349</td>\n",
              "      <td>47</td>\n",
              "      <td>1</td>\n",
              "    </tr>\n",
              "    <tr>\n",
              "      <th>767</th>\n",
              "      <td>1</td>\n",
              "      <td>93</td>\n",
              "      <td>70</td>\n",
              "      <td>31</td>\n",
              "      <td>0</td>\n",
              "      <td>30.4</td>\n",
              "      <td>0.315</td>\n",
              "      <td>23</td>\n",
              "      <td>0</td>\n",
              "    </tr>\n",
              "  </tbody>\n",
              "</table>\n",
              "<p>768 rows × 9 columns</p>\n",
              "</div>\n",
              "      <button class=\"colab-df-convert\" onclick=\"convertToInteractive('df-04ed72fa-1627-41cd-8569-a7afea955903')\"\n",
              "              title=\"Convert this dataframe to an interactive table.\"\n",
              "              style=\"display:none;\">\n",
              "        \n",
              "  <svg xmlns=\"http://www.w3.org/2000/svg\" height=\"24px\"viewBox=\"0 0 24 24\"\n",
              "       width=\"24px\">\n",
              "    <path d=\"M0 0h24v24H0V0z\" fill=\"none\"/>\n",
              "    <path d=\"M18.56 5.44l.94 2.06.94-2.06 2.06-.94-2.06-.94-.94-2.06-.94 2.06-2.06.94zm-11 1L8.5 8.5l.94-2.06 2.06-.94-2.06-.94L8.5 2.5l-.94 2.06-2.06.94zm10 10l.94 2.06.94-2.06 2.06-.94-2.06-.94-.94-2.06-.94 2.06-2.06.94z\"/><path d=\"M17.41 7.96l-1.37-1.37c-.4-.4-.92-.59-1.43-.59-.52 0-1.04.2-1.43.59L10.3 9.45l-7.72 7.72c-.78.78-.78 2.05 0 2.83L4 21.41c.39.39.9.59 1.41.59.51 0 1.02-.2 1.41-.59l7.78-7.78 2.81-2.81c.8-.78.8-2.07 0-2.86zM5.41 20L4 18.59l7.72-7.72 1.47 1.35L5.41 20z\"/>\n",
              "  </svg>\n",
              "      </button>\n",
              "      \n",
              "  <style>\n",
              "    .colab-df-container {\n",
              "      display:flex;\n",
              "      flex-wrap:wrap;\n",
              "      gap: 12px;\n",
              "    }\n",
              "\n",
              "    .colab-df-convert {\n",
              "      background-color: #E8F0FE;\n",
              "      border: none;\n",
              "      border-radius: 50%;\n",
              "      cursor: pointer;\n",
              "      display: none;\n",
              "      fill: #1967D2;\n",
              "      height: 32px;\n",
              "      padding: 0 0 0 0;\n",
              "      width: 32px;\n",
              "    }\n",
              "\n",
              "    .colab-df-convert:hover {\n",
              "      background-color: #E2EBFA;\n",
              "      box-shadow: 0px 1px 2px rgba(60, 64, 67, 0.3), 0px 1px 3px 1px rgba(60, 64, 67, 0.15);\n",
              "      fill: #174EA6;\n",
              "    }\n",
              "\n",
              "    [theme=dark] .colab-df-convert {\n",
              "      background-color: #3B4455;\n",
              "      fill: #D2E3FC;\n",
              "    }\n",
              "\n",
              "    [theme=dark] .colab-df-convert:hover {\n",
              "      background-color: #434B5C;\n",
              "      box-shadow: 0px 1px 3px 1px rgba(0, 0, 0, 0.15);\n",
              "      filter: drop-shadow(0px 1px 2px rgba(0, 0, 0, 0.3));\n",
              "      fill: #FFFFFF;\n",
              "    }\n",
              "  </style>\n",
              "\n",
              "      <script>\n",
              "        const buttonEl =\n",
              "          document.querySelector('#df-04ed72fa-1627-41cd-8569-a7afea955903 button.colab-df-convert');\n",
              "        buttonEl.style.display =\n",
              "          google.colab.kernel.accessAllowed ? 'block' : 'none';\n",
              "\n",
              "        async function convertToInteractive(key) {\n",
              "          const element = document.querySelector('#df-04ed72fa-1627-41cd-8569-a7afea955903');\n",
              "          const dataTable =\n",
              "            await google.colab.kernel.invokeFunction('convertToInteractive',\n",
              "                                                     [key], {});\n",
              "          if (!dataTable) return;\n",
              "\n",
              "          const docLinkHtml = 'Like what you see? Visit the ' +\n",
              "            '<a target=\"_blank\" href=https://colab.research.google.com/notebooks/data_table.ipynb>data table notebook</a>'\n",
              "            + ' to learn more about interactive tables.';\n",
              "          element.innerHTML = '';\n",
              "          dataTable['output_type'] = 'display_data';\n",
              "          await google.colab.output.renderOutput(dataTable, element);\n",
              "          const docLink = document.createElement('div');\n",
              "          docLink.innerHTML = docLinkHtml;\n",
              "          element.appendChild(docLink);\n",
              "        }\n",
              "      </script>\n",
              "    </div>\n",
              "  </div>\n",
              "  "
            ],
            "text/plain": [
              "     Pregnancies  Glucose  ...  Age  Outcome\n",
              "0              6      148  ...   50        1\n",
              "1              1       85  ...   31        0\n",
              "2              8      183  ...   32        1\n",
              "3              1       89  ...   21        0\n",
              "4              0      137  ...   33        1\n",
              "..           ...      ...  ...  ...      ...\n",
              "763           10      101  ...   63        0\n",
              "764            2      122  ...   27        0\n",
              "765            5      121  ...   30        0\n",
              "766            1      126  ...   47        1\n",
              "767            1       93  ...   23        0\n",
              "\n",
              "[768 rows x 9 columns]"
            ]
          },
          "metadata": {},
          "execution_count": 5
        }
      ]
    },
    {
      "cell_type": "code",
      "source": [
        "feature = dataset[[\t'Pregnancies',\t'Glucose',\t'BloodPressure',\t'Insulin',\t'BMI',\t'DiabetesPedigreeFunction'\t,'Age']]  # for independent\n",
        "target = dataset[['Outcome']]   # for dependent"
      ],
      "metadata": {
        "id": "dacJoKTamwJC"
      },
      "execution_count": 6,
      "outputs": []
    },
    {
      "cell_type": "code",
      "source": [
        "feature"
      ],
      "metadata": {
        "id": "VcUNcqCWnsZl"
      },
      "execution_count": null,
      "outputs": []
    },
    {
      "cell_type": "code",
      "source": [
        "target"
      ],
      "metadata": {
        "id": "SqZEy4JrnwA_"
      },
      "execution_count": null,
      "outputs": []
    },
    {
      "cell_type": "markdown",
      "source": [
        "## Taking care of missing values"
      ],
      "metadata": {
        "id": "gDQ_iosRXbpR"
      }
    },
    {
      "cell_type": "code",
      "source": [
        "from sklearn.impute import SimpleImputer"
      ],
      "metadata": {
        "id": "qcKzj6ZSDW__"
      },
      "execution_count": 9,
      "outputs": []
    },
    {
      "cell_type": "code",
      "source": [
        "imputer = SimpleImputer(missing_values=np.nan,strategy = \"mean\") # imputer is an object of Imputer class \n",
        "imputer = imputer.fit(feature[['Pregnancies',\t'Glucose',\t'BloodPressure','Insulin',\t'BMI',\t'DiabetesPedigreeFunction'\t,'Age']])"
      ],
      "metadata": {
        "id": "PFkK2S6LDeXg"
      },
      "execution_count": 10,
      "outputs": []
    },
    {
      "cell_type": "code",
      "source": [
        "feature[['Pregnancies',\t'Glucose',\t'BloodPressure','Insulin',\t'BMI',\t'DiabetesPedigreeFunction'\t,'Age']]= imputer.transform(feature[['Pregnancies',\t'Glucose',\t'BloodPressure',\t'Insulin',\t'BMI',\t'DiabetesPedigreeFunction'\t,'Age']])"
      ],
      "metadata": {
        "id": "PN24pX7PD8qL"
      },
      "execution_count": 14,
      "outputs": []
    },
    {
      "cell_type": "code",
      "source": [
        "feature"
      ],
      "metadata": {
        "colab": {
          "base_uri": "https://localhost:8080/",
          "height": 423
        },
        "id": "sUWEthcpE2F6",
        "outputId": "a04d16cb-cacb-465c-a85b-e0415d68522e"
      },
      "execution_count": 15,
      "outputs": [
        {
          "output_type": "execute_result",
          "data": {
            "text/html": [
              "\n",
              "  <div id=\"df-d90750e9-3e45-41a1-8d7e-b2d3bb6ce5d6\">\n",
              "    <div class=\"colab-df-container\">\n",
              "      <div>\n",
              "<style scoped>\n",
              "    .dataframe tbody tr th:only-of-type {\n",
              "        vertical-align: middle;\n",
              "    }\n",
              "\n",
              "    .dataframe tbody tr th {\n",
              "        vertical-align: top;\n",
              "    }\n",
              "\n",
              "    .dataframe thead th {\n",
              "        text-align: right;\n",
              "    }\n",
              "</style>\n",
              "<table border=\"1\" class=\"dataframe\">\n",
              "  <thead>\n",
              "    <tr style=\"text-align: right;\">\n",
              "      <th></th>\n",
              "      <th>Pregnancies</th>\n",
              "      <th>Glucose</th>\n",
              "      <th>BloodPressure</th>\n",
              "      <th>Insulin</th>\n",
              "      <th>BMI</th>\n",
              "      <th>DiabetesPedigreeFunction</th>\n",
              "      <th>Age</th>\n",
              "    </tr>\n",
              "  </thead>\n",
              "  <tbody>\n",
              "    <tr>\n",
              "      <th>0</th>\n",
              "      <td>6.0</td>\n",
              "      <td>148.0</td>\n",
              "      <td>72.0</td>\n",
              "      <td>0.0</td>\n",
              "      <td>33.6</td>\n",
              "      <td>0.627</td>\n",
              "      <td>50.0</td>\n",
              "    </tr>\n",
              "    <tr>\n",
              "      <th>1</th>\n",
              "      <td>1.0</td>\n",
              "      <td>85.0</td>\n",
              "      <td>66.0</td>\n",
              "      <td>0.0</td>\n",
              "      <td>26.6</td>\n",
              "      <td>0.351</td>\n",
              "      <td>31.0</td>\n",
              "    </tr>\n",
              "    <tr>\n",
              "      <th>2</th>\n",
              "      <td>8.0</td>\n",
              "      <td>183.0</td>\n",
              "      <td>64.0</td>\n",
              "      <td>0.0</td>\n",
              "      <td>23.3</td>\n",
              "      <td>0.672</td>\n",
              "      <td>32.0</td>\n",
              "    </tr>\n",
              "    <tr>\n",
              "      <th>3</th>\n",
              "      <td>1.0</td>\n",
              "      <td>89.0</td>\n",
              "      <td>66.0</td>\n",
              "      <td>94.0</td>\n",
              "      <td>28.1</td>\n",
              "      <td>0.167</td>\n",
              "      <td>21.0</td>\n",
              "    </tr>\n",
              "    <tr>\n",
              "      <th>4</th>\n",
              "      <td>0.0</td>\n",
              "      <td>137.0</td>\n",
              "      <td>40.0</td>\n",
              "      <td>168.0</td>\n",
              "      <td>43.1</td>\n",
              "      <td>2.288</td>\n",
              "      <td>33.0</td>\n",
              "    </tr>\n",
              "    <tr>\n",
              "      <th>...</th>\n",
              "      <td>...</td>\n",
              "      <td>...</td>\n",
              "      <td>...</td>\n",
              "      <td>...</td>\n",
              "      <td>...</td>\n",
              "      <td>...</td>\n",
              "      <td>...</td>\n",
              "    </tr>\n",
              "    <tr>\n",
              "      <th>763</th>\n",
              "      <td>10.0</td>\n",
              "      <td>101.0</td>\n",
              "      <td>76.0</td>\n",
              "      <td>180.0</td>\n",
              "      <td>32.9</td>\n",
              "      <td>0.171</td>\n",
              "      <td>63.0</td>\n",
              "    </tr>\n",
              "    <tr>\n",
              "      <th>764</th>\n",
              "      <td>2.0</td>\n",
              "      <td>122.0</td>\n",
              "      <td>70.0</td>\n",
              "      <td>0.0</td>\n",
              "      <td>36.8</td>\n",
              "      <td>0.340</td>\n",
              "      <td>27.0</td>\n",
              "    </tr>\n",
              "    <tr>\n",
              "      <th>765</th>\n",
              "      <td>5.0</td>\n",
              "      <td>121.0</td>\n",
              "      <td>72.0</td>\n",
              "      <td>112.0</td>\n",
              "      <td>26.2</td>\n",
              "      <td>0.245</td>\n",
              "      <td>30.0</td>\n",
              "    </tr>\n",
              "    <tr>\n",
              "      <th>766</th>\n",
              "      <td>1.0</td>\n",
              "      <td>126.0</td>\n",
              "      <td>60.0</td>\n",
              "      <td>0.0</td>\n",
              "      <td>30.1</td>\n",
              "      <td>0.349</td>\n",
              "      <td>47.0</td>\n",
              "    </tr>\n",
              "    <tr>\n",
              "      <th>767</th>\n",
              "      <td>1.0</td>\n",
              "      <td>93.0</td>\n",
              "      <td>70.0</td>\n",
              "      <td>0.0</td>\n",
              "      <td>30.4</td>\n",
              "      <td>0.315</td>\n",
              "      <td>23.0</td>\n",
              "    </tr>\n",
              "  </tbody>\n",
              "</table>\n",
              "<p>768 rows × 7 columns</p>\n",
              "</div>\n",
              "      <button class=\"colab-df-convert\" onclick=\"convertToInteractive('df-d90750e9-3e45-41a1-8d7e-b2d3bb6ce5d6')\"\n",
              "              title=\"Convert this dataframe to an interactive table.\"\n",
              "              style=\"display:none;\">\n",
              "        \n",
              "  <svg xmlns=\"http://www.w3.org/2000/svg\" height=\"24px\"viewBox=\"0 0 24 24\"\n",
              "       width=\"24px\">\n",
              "    <path d=\"M0 0h24v24H0V0z\" fill=\"none\"/>\n",
              "    <path d=\"M18.56 5.44l.94 2.06.94-2.06 2.06-.94-2.06-.94-.94-2.06-.94 2.06-2.06.94zm-11 1L8.5 8.5l.94-2.06 2.06-.94-2.06-.94L8.5 2.5l-.94 2.06-2.06.94zm10 10l.94 2.06.94-2.06 2.06-.94-2.06-.94-.94-2.06-.94 2.06-2.06.94z\"/><path d=\"M17.41 7.96l-1.37-1.37c-.4-.4-.92-.59-1.43-.59-.52 0-1.04.2-1.43.59L10.3 9.45l-7.72 7.72c-.78.78-.78 2.05 0 2.83L4 21.41c.39.39.9.59 1.41.59.51 0 1.02-.2 1.41-.59l7.78-7.78 2.81-2.81c.8-.78.8-2.07 0-2.86zM5.41 20L4 18.59l7.72-7.72 1.47 1.35L5.41 20z\"/>\n",
              "  </svg>\n",
              "      </button>\n",
              "      \n",
              "  <style>\n",
              "    .colab-df-container {\n",
              "      display:flex;\n",
              "      flex-wrap:wrap;\n",
              "      gap: 12px;\n",
              "    }\n",
              "\n",
              "    .colab-df-convert {\n",
              "      background-color: #E8F0FE;\n",
              "      border: none;\n",
              "      border-radius: 50%;\n",
              "      cursor: pointer;\n",
              "      display: none;\n",
              "      fill: #1967D2;\n",
              "      height: 32px;\n",
              "      padding: 0 0 0 0;\n",
              "      width: 32px;\n",
              "    }\n",
              "\n",
              "    .colab-df-convert:hover {\n",
              "      background-color: #E2EBFA;\n",
              "      box-shadow: 0px 1px 2px rgba(60, 64, 67, 0.3), 0px 1px 3px 1px rgba(60, 64, 67, 0.15);\n",
              "      fill: #174EA6;\n",
              "    }\n",
              "\n",
              "    [theme=dark] .colab-df-convert {\n",
              "      background-color: #3B4455;\n",
              "      fill: #D2E3FC;\n",
              "    }\n",
              "\n",
              "    [theme=dark] .colab-df-convert:hover {\n",
              "      background-color: #434B5C;\n",
              "      box-shadow: 0px 1px 3px 1px rgba(0, 0, 0, 0.15);\n",
              "      filter: drop-shadow(0px 1px 2px rgba(0, 0, 0, 0.3));\n",
              "      fill: #FFFFFF;\n",
              "    }\n",
              "  </style>\n",
              "\n",
              "      <script>\n",
              "        const buttonEl =\n",
              "          document.querySelector('#df-d90750e9-3e45-41a1-8d7e-b2d3bb6ce5d6 button.colab-df-convert');\n",
              "        buttonEl.style.display =\n",
              "          google.colab.kernel.accessAllowed ? 'block' : 'none';\n",
              "\n",
              "        async function convertToInteractive(key) {\n",
              "          const element = document.querySelector('#df-d90750e9-3e45-41a1-8d7e-b2d3bb6ce5d6');\n",
              "          const dataTable =\n",
              "            await google.colab.kernel.invokeFunction('convertToInteractive',\n",
              "                                                     [key], {});\n",
              "          if (!dataTable) return;\n",
              "\n",
              "          const docLinkHtml = 'Like what you see? Visit the ' +\n",
              "            '<a target=\"_blank\" href=https://colab.research.google.com/notebooks/data_table.ipynb>data table notebook</a>'\n",
              "            + ' to learn more about interactive tables.';\n",
              "          element.innerHTML = '';\n",
              "          dataTable['output_type'] = 'display_data';\n",
              "          await google.colab.output.renderOutput(dataTable, element);\n",
              "          const docLink = document.createElement('div');\n",
              "          docLink.innerHTML = docLinkHtml;\n",
              "          element.appendChild(docLink);\n",
              "        }\n",
              "      </script>\n",
              "    </div>\n",
              "  </div>\n",
              "  "
            ],
            "text/plain": [
              "     Pregnancies  Glucose  BloodPressure  ...   BMI  DiabetesPedigreeFunction   Age\n",
              "0            6.0    148.0           72.0  ...  33.6                     0.627  50.0\n",
              "1            1.0     85.0           66.0  ...  26.6                     0.351  31.0\n",
              "2            8.0    183.0           64.0  ...  23.3                     0.672  32.0\n",
              "3            1.0     89.0           66.0  ...  28.1                     0.167  21.0\n",
              "4            0.0    137.0           40.0  ...  43.1                     2.288  33.0\n",
              "..           ...      ...            ...  ...   ...                       ...   ...\n",
              "763         10.0    101.0           76.0  ...  32.9                     0.171  63.0\n",
              "764          2.0    122.0           70.0  ...  36.8                     0.340  27.0\n",
              "765          5.0    121.0           72.0  ...  26.2                     0.245  30.0\n",
              "766          1.0    126.0           60.0  ...  30.1                     0.349  47.0\n",
              "767          1.0     93.0           70.0  ...  30.4                     0.315  23.0\n",
              "\n",
              "[768 rows x 7 columns]"
            ]
          },
          "metadata": {},
          "execution_count": 15
        }
      ]
    },
    {
      "cell_type": "code",
      "source": [
        "imputer = SimpleImputer(missing_values=np.nan,strategy = \"mean\") # imputer is an object of Imputer class \n",
        "imputer = imputer.fit(target[['Outcome']])"
      ],
      "metadata": {
        "id": "ZcjBzQMzFz-Z"
      },
      "execution_count": 16,
      "outputs": []
    },
    {
      "cell_type": "code",
      "source": [
        "target[['Outcome']]= imputer.transform(target[['Outcome']])"
      ],
      "metadata": {
        "id": "nZPcxPQwGMjG"
      },
      "execution_count": 17,
      "outputs": []
    },
    {
      "cell_type": "code",
      "source": [
        "target"
      ],
      "metadata": {
        "colab": {
          "base_uri": "https://localhost:8080/",
          "height": 424
        },
        "id": "EnPPyT1xGWcL",
        "outputId": "8bdf7cfd-be53-4364-ecb7-7eb90cd36d4a"
      },
      "execution_count": null,
      "outputs": [
        {
          "output_type": "execute_result",
          "data": {
            "text/html": [
              "\n",
              "  <div id=\"df-866b8e22-31d0-4f9b-878e-cd55bec66180\">\n",
              "    <div class=\"colab-df-container\">\n",
              "      <div>\n",
              "<style scoped>\n",
              "    .dataframe tbody tr th:only-of-type {\n",
              "        vertical-align: middle;\n",
              "    }\n",
              "\n",
              "    .dataframe tbody tr th {\n",
              "        vertical-align: top;\n",
              "    }\n",
              "\n",
              "    .dataframe thead th {\n",
              "        text-align: right;\n",
              "    }\n",
              "</style>\n",
              "<table border=\"1\" class=\"dataframe\">\n",
              "  <thead>\n",
              "    <tr style=\"text-align: right;\">\n",
              "      <th></th>\n",
              "      <th>Outcome</th>\n",
              "    </tr>\n",
              "  </thead>\n",
              "  <tbody>\n",
              "    <tr>\n",
              "      <th>0</th>\n",
              "      <td>1.0</td>\n",
              "    </tr>\n",
              "    <tr>\n",
              "      <th>1</th>\n",
              "      <td>0.0</td>\n",
              "    </tr>\n",
              "    <tr>\n",
              "      <th>2</th>\n",
              "      <td>1.0</td>\n",
              "    </tr>\n",
              "    <tr>\n",
              "      <th>3</th>\n",
              "      <td>0.0</td>\n",
              "    </tr>\n",
              "    <tr>\n",
              "      <th>4</th>\n",
              "      <td>1.0</td>\n",
              "    </tr>\n",
              "    <tr>\n",
              "      <th>...</th>\n",
              "      <td>...</td>\n",
              "    </tr>\n",
              "    <tr>\n",
              "      <th>763</th>\n",
              "      <td>0.0</td>\n",
              "    </tr>\n",
              "    <tr>\n",
              "      <th>764</th>\n",
              "      <td>0.0</td>\n",
              "    </tr>\n",
              "    <tr>\n",
              "      <th>765</th>\n",
              "      <td>0.0</td>\n",
              "    </tr>\n",
              "    <tr>\n",
              "      <th>766</th>\n",
              "      <td>1.0</td>\n",
              "    </tr>\n",
              "    <tr>\n",
              "      <th>767</th>\n",
              "      <td>0.0</td>\n",
              "    </tr>\n",
              "  </tbody>\n",
              "</table>\n",
              "<p>768 rows × 1 columns</p>\n",
              "</div>\n",
              "      <button class=\"colab-df-convert\" onclick=\"convertToInteractive('df-866b8e22-31d0-4f9b-878e-cd55bec66180')\"\n",
              "              title=\"Convert this dataframe to an interactive table.\"\n",
              "              style=\"display:none;\">\n",
              "        \n",
              "  <svg xmlns=\"http://www.w3.org/2000/svg\" height=\"24px\"viewBox=\"0 0 24 24\"\n",
              "       width=\"24px\">\n",
              "    <path d=\"M0 0h24v24H0V0z\" fill=\"none\"/>\n",
              "    <path d=\"M18.56 5.44l.94 2.06.94-2.06 2.06-.94-2.06-.94-.94-2.06-.94 2.06-2.06.94zm-11 1L8.5 8.5l.94-2.06 2.06-.94-2.06-.94L8.5 2.5l-.94 2.06-2.06.94zm10 10l.94 2.06.94-2.06 2.06-.94-2.06-.94-.94-2.06-.94 2.06-2.06.94z\"/><path d=\"M17.41 7.96l-1.37-1.37c-.4-.4-.92-.59-1.43-.59-.52 0-1.04.2-1.43.59L10.3 9.45l-7.72 7.72c-.78.78-.78 2.05 0 2.83L4 21.41c.39.39.9.59 1.41.59.51 0 1.02-.2 1.41-.59l7.78-7.78 2.81-2.81c.8-.78.8-2.07 0-2.86zM5.41 20L4 18.59l7.72-7.72 1.47 1.35L5.41 20z\"/>\n",
              "  </svg>\n",
              "      </button>\n",
              "      \n",
              "  <style>\n",
              "    .colab-df-container {\n",
              "      display:flex;\n",
              "      flex-wrap:wrap;\n",
              "      gap: 12px;\n",
              "    }\n",
              "\n",
              "    .colab-df-convert {\n",
              "      background-color: #E8F0FE;\n",
              "      border: none;\n",
              "      border-radius: 50%;\n",
              "      cursor: pointer;\n",
              "      display: none;\n",
              "      fill: #1967D2;\n",
              "      height: 32px;\n",
              "      padding: 0 0 0 0;\n",
              "      width: 32px;\n",
              "    }\n",
              "\n",
              "    .colab-df-convert:hover {\n",
              "      background-color: #E2EBFA;\n",
              "      box-shadow: 0px 1px 2px rgba(60, 64, 67, 0.3), 0px 1px 3px 1px rgba(60, 64, 67, 0.15);\n",
              "      fill: #174EA6;\n",
              "    }\n",
              "\n",
              "    [theme=dark] .colab-df-convert {\n",
              "      background-color: #3B4455;\n",
              "      fill: #D2E3FC;\n",
              "    }\n",
              "\n",
              "    [theme=dark] .colab-df-convert:hover {\n",
              "      background-color: #434B5C;\n",
              "      box-shadow: 0px 1px 3px 1px rgba(0, 0, 0, 0.15);\n",
              "      filter: drop-shadow(0px 1px 2px rgba(0, 0, 0, 0.3));\n",
              "      fill: #FFFFFF;\n",
              "    }\n",
              "  </style>\n",
              "\n",
              "      <script>\n",
              "        const buttonEl =\n",
              "          document.querySelector('#df-866b8e22-31d0-4f9b-878e-cd55bec66180 button.colab-df-convert');\n",
              "        buttonEl.style.display =\n",
              "          google.colab.kernel.accessAllowed ? 'block' : 'none';\n",
              "\n",
              "        async function convertToInteractive(key) {\n",
              "          const element = document.querySelector('#df-866b8e22-31d0-4f9b-878e-cd55bec66180');\n",
              "          const dataTable =\n",
              "            await google.colab.kernel.invokeFunction('convertToInteractive',\n",
              "                                                     [key], {});\n",
              "          if (!dataTable) return;\n",
              "\n",
              "          const docLinkHtml = 'Like what you see? Visit the ' +\n",
              "            '<a target=\"_blank\" href=https://colab.research.google.com/notebooks/data_table.ipynb>data table notebook</a>'\n",
              "            + ' to learn more about interactive tables.';\n",
              "          element.innerHTML = '';\n",
              "          dataTable['output_type'] = 'display_data';\n",
              "          await google.colab.output.renderOutput(dataTable, element);\n",
              "          const docLink = document.createElement('div');\n",
              "          docLink.innerHTML = docLinkHtml;\n",
              "          element.appendChild(docLink);\n",
              "        }\n",
              "      </script>\n",
              "    </div>\n",
              "  </div>\n",
              "  "
            ],
            "text/plain": [
              "     Outcome\n",
              "0        1.0\n",
              "1        0.0\n",
              "2        1.0\n",
              "3        0.0\n",
              "4        1.0\n",
              "..       ...\n",
              "763      0.0\n",
              "764      0.0\n",
              "765      0.0\n",
              "766      1.0\n",
              "767      0.0\n",
              "\n",
              "[768 rows x 1 columns]"
            ]
          },
          "metadata": {},
          "execution_count": 88
        }
      ]
    },
    {
      "cell_type": "markdown",
      "source": [
        "## Splitting Dataset"
      ],
      "metadata": {
        "id": "pRtOrAuGXhxy"
      }
    },
    {
      "cell_type": "code",
      "source": [
        "\"\"\"Spliting the Dataset into Training Set and Test Set \"\"\"\n",
        "\n",
        "X_train,X_test,y_train,y_test=train_test_split(feature,target,test_size = 0.2,random_state = 0)\n",
        "# random_state = 0 is select to get the same result"
      ],
      "metadata": {
        "id": "I-ob2Bd7GyxU"
      },
      "execution_count": 21,
      "outputs": []
    },
    {
      "cell_type": "code",
      "source": [
        "print(X_train.shape)\n",
        "print(X_test.shape)"
      ],
      "metadata": {
        "colab": {
          "base_uri": "https://localhost:8080/"
        },
        "id": "dus6C1x5G-My",
        "outputId": "8b664864-d8b5-400b-bda6-e320e36b12ae"
      },
      "execution_count": 22,
      "outputs": [
        {
          "output_type": "stream",
          "name": "stdout",
          "text": [
            "(614, 7)\n",
            "(154, 7)\n"
          ]
        }
      ]
    },
    {
      "cell_type": "code",
      "source": [
        "X_test"
      ],
      "metadata": {
        "colab": {
          "base_uri": "https://localhost:8080/",
          "height": 423
        },
        "id": "gqUXAmfyHCtD",
        "outputId": "d7997c4c-f514-4425-e5dd-1790aaa28af6"
      },
      "execution_count": 23,
      "outputs": [
        {
          "output_type": "execute_result",
          "data": {
            "text/html": [
              "\n",
              "  <div id=\"df-983cc042-fdc6-49d9-b2ab-ddaf40ff3398\">\n",
              "    <div class=\"colab-df-container\">\n",
              "      <div>\n",
              "<style scoped>\n",
              "    .dataframe tbody tr th:only-of-type {\n",
              "        vertical-align: middle;\n",
              "    }\n",
              "\n",
              "    .dataframe tbody tr th {\n",
              "        vertical-align: top;\n",
              "    }\n",
              "\n",
              "    .dataframe thead th {\n",
              "        text-align: right;\n",
              "    }\n",
              "</style>\n",
              "<table border=\"1\" class=\"dataframe\">\n",
              "  <thead>\n",
              "    <tr style=\"text-align: right;\">\n",
              "      <th></th>\n",
              "      <th>Pregnancies</th>\n",
              "      <th>Glucose</th>\n",
              "      <th>BloodPressure</th>\n",
              "      <th>Insulin</th>\n",
              "      <th>BMI</th>\n",
              "      <th>DiabetesPedigreeFunction</th>\n",
              "      <th>Age</th>\n",
              "    </tr>\n",
              "  </thead>\n",
              "  <tbody>\n",
              "    <tr>\n",
              "      <th>661</th>\n",
              "      <td>1.0</td>\n",
              "      <td>199.0</td>\n",
              "      <td>76.0</td>\n",
              "      <td>0.0</td>\n",
              "      <td>42.9</td>\n",
              "      <td>1.394</td>\n",
              "      <td>22.0</td>\n",
              "    </tr>\n",
              "    <tr>\n",
              "      <th>122</th>\n",
              "      <td>2.0</td>\n",
              "      <td>107.0</td>\n",
              "      <td>74.0</td>\n",
              "      <td>100.0</td>\n",
              "      <td>33.6</td>\n",
              "      <td>0.404</td>\n",
              "      <td>23.0</td>\n",
              "    </tr>\n",
              "    <tr>\n",
              "      <th>113</th>\n",
              "      <td>4.0</td>\n",
              "      <td>76.0</td>\n",
              "      <td>62.0</td>\n",
              "      <td>0.0</td>\n",
              "      <td>34.0</td>\n",
              "      <td>0.391</td>\n",
              "      <td>25.0</td>\n",
              "    </tr>\n",
              "    <tr>\n",
              "      <th>14</th>\n",
              "      <td>5.0</td>\n",
              "      <td>166.0</td>\n",
              "      <td>72.0</td>\n",
              "      <td>175.0</td>\n",
              "      <td>25.8</td>\n",
              "      <td>0.587</td>\n",
              "      <td>51.0</td>\n",
              "    </tr>\n",
              "    <tr>\n",
              "      <th>529</th>\n",
              "      <td>0.0</td>\n",
              "      <td>111.0</td>\n",
              "      <td>65.0</td>\n",
              "      <td>0.0</td>\n",
              "      <td>24.6</td>\n",
              "      <td>0.660</td>\n",
              "      <td>31.0</td>\n",
              "    </tr>\n",
              "    <tr>\n",
              "      <th>...</th>\n",
              "      <td>...</td>\n",
              "      <td>...</td>\n",
              "      <td>...</td>\n",
              "      <td>...</td>\n",
              "      <td>...</td>\n",
              "      <td>...</td>\n",
              "      <td>...</td>\n",
              "    </tr>\n",
              "    <tr>\n",
              "      <th>476</th>\n",
              "      <td>2.0</td>\n",
              "      <td>105.0</td>\n",
              "      <td>80.0</td>\n",
              "      <td>191.0</td>\n",
              "      <td>33.7</td>\n",
              "      <td>0.711</td>\n",
              "      <td>29.0</td>\n",
              "    </tr>\n",
              "    <tr>\n",
              "      <th>482</th>\n",
              "      <td>4.0</td>\n",
              "      <td>85.0</td>\n",
              "      <td>58.0</td>\n",
              "      <td>49.0</td>\n",
              "      <td>27.8</td>\n",
              "      <td>0.306</td>\n",
              "      <td>28.0</td>\n",
              "    </tr>\n",
              "    <tr>\n",
              "      <th>230</th>\n",
              "      <td>4.0</td>\n",
              "      <td>142.0</td>\n",
              "      <td>86.0</td>\n",
              "      <td>0.0</td>\n",
              "      <td>44.0</td>\n",
              "      <td>0.645</td>\n",
              "      <td>22.0</td>\n",
              "    </tr>\n",
              "    <tr>\n",
              "      <th>527</th>\n",
              "      <td>3.0</td>\n",
              "      <td>116.0</td>\n",
              "      <td>74.0</td>\n",
              "      <td>105.0</td>\n",
              "      <td>26.3</td>\n",
              "      <td>0.107</td>\n",
              "      <td>24.0</td>\n",
              "    </tr>\n",
              "    <tr>\n",
              "      <th>380</th>\n",
              "      <td>1.0</td>\n",
              "      <td>107.0</td>\n",
              "      <td>72.0</td>\n",
              "      <td>82.0</td>\n",
              "      <td>30.8</td>\n",
              "      <td>0.821</td>\n",
              "      <td>24.0</td>\n",
              "    </tr>\n",
              "  </tbody>\n",
              "</table>\n",
              "<p>154 rows × 7 columns</p>\n",
              "</div>\n",
              "      <button class=\"colab-df-convert\" onclick=\"convertToInteractive('df-983cc042-fdc6-49d9-b2ab-ddaf40ff3398')\"\n",
              "              title=\"Convert this dataframe to an interactive table.\"\n",
              "              style=\"display:none;\">\n",
              "        \n",
              "  <svg xmlns=\"http://www.w3.org/2000/svg\" height=\"24px\"viewBox=\"0 0 24 24\"\n",
              "       width=\"24px\">\n",
              "    <path d=\"M0 0h24v24H0V0z\" fill=\"none\"/>\n",
              "    <path d=\"M18.56 5.44l.94 2.06.94-2.06 2.06-.94-2.06-.94-.94-2.06-.94 2.06-2.06.94zm-11 1L8.5 8.5l.94-2.06 2.06-.94-2.06-.94L8.5 2.5l-.94 2.06-2.06.94zm10 10l.94 2.06.94-2.06 2.06-.94-2.06-.94-.94-2.06-.94 2.06-2.06.94z\"/><path d=\"M17.41 7.96l-1.37-1.37c-.4-.4-.92-.59-1.43-.59-.52 0-1.04.2-1.43.59L10.3 9.45l-7.72 7.72c-.78.78-.78 2.05 0 2.83L4 21.41c.39.39.9.59 1.41.59.51 0 1.02-.2 1.41-.59l7.78-7.78 2.81-2.81c.8-.78.8-2.07 0-2.86zM5.41 20L4 18.59l7.72-7.72 1.47 1.35L5.41 20z\"/>\n",
              "  </svg>\n",
              "      </button>\n",
              "      \n",
              "  <style>\n",
              "    .colab-df-container {\n",
              "      display:flex;\n",
              "      flex-wrap:wrap;\n",
              "      gap: 12px;\n",
              "    }\n",
              "\n",
              "    .colab-df-convert {\n",
              "      background-color: #E8F0FE;\n",
              "      border: none;\n",
              "      border-radius: 50%;\n",
              "      cursor: pointer;\n",
              "      display: none;\n",
              "      fill: #1967D2;\n",
              "      height: 32px;\n",
              "      padding: 0 0 0 0;\n",
              "      width: 32px;\n",
              "    }\n",
              "\n",
              "    .colab-df-convert:hover {\n",
              "      background-color: #E2EBFA;\n",
              "      box-shadow: 0px 1px 2px rgba(60, 64, 67, 0.3), 0px 1px 3px 1px rgba(60, 64, 67, 0.15);\n",
              "      fill: #174EA6;\n",
              "    }\n",
              "\n",
              "    [theme=dark] .colab-df-convert {\n",
              "      background-color: #3B4455;\n",
              "      fill: #D2E3FC;\n",
              "    }\n",
              "\n",
              "    [theme=dark] .colab-df-convert:hover {\n",
              "      background-color: #434B5C;\n",
              "      box-shadow: 0px 1px 3px 1px rgba(0, 0, 0, 0.15);\n",
              "      filter: drop-shadow(0px 1px 2px rgba(0, 0, 0, 0.3));\n",
              "      fill: #FFFFFF;\n",
              "    }\n",
              "  </style>\n",
              "\n",
              "      <script>\n",
              "        const buttonEl =\n",
              "          document.querySelector('#df-983cc042-fdc6-49d9-b2ab-ddaf40ff3398 button.colab-df-convert');\n",
              "        buttonEl.style.display =\n",
              "          google.colab.kernel.accessAllowed ? 'block' : 'none';\n",
              "\n",
              "        async function convertToInteractive(key) {\n",
              "          const element = document.querySelector('#df-983cc042-fdc6-49d9-b2ab-ddaf40ff3398');\n",
              "          const dataTable =\n",
              "            await google.colab.kernel.invokeFunction('convertToInteractive',\n",
              "                                                     [key], {});\n",
              "          if (!dataTable) return;\n",
              "\n",
              "          const docLinkHtml = 'Like what you see? Visit the ' +\n",
              "            '<a target=\"_blank\" href=https://colab.research.google.com/notebooks/data_table.ipynb>data table notebook</a>'\n",
              "            + ' to learn more about interactive tables.';\n",
              "          element.innerHTML = '';\n",
              "          dataTable['output_type'] = 'display_data';\n",
              "          await google.colab.output.renderOutput(dataTable, element);\n",
              "          const docLink = document.createElement('div');\n",
              "          docLink.innerHTML = docLinkHtml;\n",
              "          element.appendChild(docLink);\n",
              "        }\n",
              "      </script>\n",
              "    </div>\n",
              "  </div>\n",
              "  "
            ],
            "text/plain": [
              "     Pregnancies  Glucose  BloodPressure  ...   BMI  DiabetesPedigreeFunction   Age\n",
              "661          1.0    199.0           76.0  ...  42.9                     1.394  22.0\n",
              "122          2.0    107.0           74.0  ...  33.6                     0.404  23.0\n",
              "113          4.0     76.0           62.0  ...  34.0                     0.391  25.0\n",
              "14           5.0    166.0           72.0  ...  25.8                     0.587  51.0\n",
              "529          0.0    111.0           65.0  ...  24.6                     0.660  31.0\n",
              "..           ...      ...            ...  ...   ...                       ...   ...\n",
              "476          2.0    105.0           80.0  ...  33.7                     0.711  29.0\n",
              "482          4.0     85.0           58.0  ...  27.8                     0.306  28.0\n",
              "230          4.0    142.0           86.0  ...  44.0                     0.645  22.0\n",
              "527          3.0    116.0           74.0  ...  26.3                     0.107  24.0\n",
              "380          1.0    107.0           72.0  ...  30.8                     0.821  24.0\n",
              "\n",
              "[154 rows x 7 columns]"
            ]
          },
          "metadata": {},
          "execution_count": 23
        }
      ]
    },
    {
      "cell_type": "markdown",
      "source": [
        "## Feature Scaling"
      ],
      "metadata": {
        "id": "q8gvnnabXsjI"
      }
    },
    {
      "cell_type": "code",
      "source": [
        "X_sc = StandardScaler()\n",
        "X_train = X_sc.fit_transform(X_train)\n",
        "X_test = X_sc.transform(X_test)"
      ],
      "metadata": {
        "id": "PLFphGieHOco"
      },
      "execution_count": 25,
      "outputs": []
    },
    {
      "cell_type": "markdown",
      "source": [
        "## Neural Network"
      ],
      "metadata": {
        "id": "grYPvz3AX3gt"
      }
    },
    {
      "cell_type": "markdown",
      "source": [
        "**Building a Multilayer Neural Network with Tensorflow Keras**. \n",
        "\n",
        "\n",
        "Before training our model, we have to build it. Building the architecture of a neural network in Keras is done using the **Sequential class**. Layers can be added to whatever numbers you desire. \n",
        "\n",
        "First off, we will create a double hidden layer and see how the model performs. \n",
        "\n",
        "Since the data we are passing into the model has 1 features, we must define the input_dim parameter in the first layer and set it to 1. Our two hidden layers are set to have 64 nodes and 32 nodes and then those are passed to the output layer with just one node. Since it is a linear regression problem and the output is just one number, the final layer should have one node. \n",
        "\n",
        "In addition, the hidden layer has a ReLu activation function whereas the output function has a linear activation function. If you don’t know what activation functions are, I like to see them as ‘switches’ that are responsible for aggregating the weights of the nodes to give an output to the next node input. \n",
        "\n",
        "The code to build the neural network architecture is shown below. "
      ],
      "metadata": {
        "id": "qyOPxNkUX73a"
      }
    },
    {
      "cell_type": "code",
      "source": [
        "import tensorflow as tf\n",
        "from tensorflow.keras import Sequential\n",
        "from tensorflow.keras.layers import Dense"
      ],
      "metadata": {
        "id": "wmkbqG7xHX8C"
      },
      "execution_count": 26,
      "outputs": []
    },
    {
      "cell_type": "code",
      "source": [
        "#built the neural network architecture\n",
        "model = Sequential()\n",
        "model.add(Dense(47, input_dim=7, activation='relu'))\n",
        "model.add(Dense(32, activation='relu'))\n",
        "model.add(Dense(1, activation='sigmoid'))"
      ],
      "metadata": {
        "id": "aJjn-BGQHfJx"
      },
      "execution_count": 35,
      "outputs": []
    },
    {
      "cell_type": "code",
      "source": [
        "model.summary()"
      ],
      "metadata": {
        "colab": {
          "base_uri": "https://localhost:8080/"
        },
        "id": "_wE-9sQ9HkRI",
        "outputId": "f9e70ecb-2b12-4e91-ea57-3c4ae8a5d8aa"
      },
      "execution_count": 36,
      "outputs": [
        {
          "output_type": "stream",
          "name": "stdout",
          "text": [
            "Model: \"sequential_1\"\n",
            "_________________________________________________________________\n",
            " Layer (type)                Output Shape              Param #   \n",
            "=================================================================\n",
            " dense_3 (Dense)             (None, 47)                376       \n",
            "                                                                 \n",
            " dense_4 (Dense)             (None, 32)                1536      \n",
            "                                                                 \n",
            " dense_5 (Dense)             (None, 1)                 33        \n",
            "                                                                 \n",
            "=================================================================\n",
            "Total params: 1,945\n",
            "Trainable params: 1,945\n",
            "Non-trainable params: 0\n",
            "_________________________________________________________________\n"
          ]
        }
      ]
    },
    {
      "cell_type": "markdown",
      "source": [
        "The next step is to compile the model. We use an RMSProp optimizer with a binary_crossentropy. We defined the validation metrics to be accuracy."
      ],
      "metadata": {
        "id": "wOkJ-aOAYZBb"
      }
    },
    {
      "cell_type": "code",
      "source": [
        "model.compile(loss='binary_crossentropy', optimizer='rmsprop', metrics=['accuracy'])"
      ],
      "metadata": {
        "id": "_v07S-KIHu8V"
      },
      "execution_count": 37,
      "outputs": []
    },
    {
      "cell_type": "markdown",
      "source": [
        "## Training the model\n",
        "\n",
        "The model was trained on 80 epochs with a validation set of 20% of the train data. The validation set helps you check how well the model is learning during the training process, based on the loss function."
      ],
      "metadata": {
        "id": "J1S2J2UAYNub"
      }
    },
    {
      "cell_type": "code",
      "source": [
        "#train the neural network on the train dataset\n",
        "history = model.fit(X_train, y_train, epochs=80, validation_split=0.2)"
      ],
      "metadata": {
        "colab": {
          "base_uri": "https://localhost:8080/"
        },
        "id": "3p0VZ9ZFH1zD",
        "outputId": "6a36689a-da9e-4d76-84bc-778cc3c54432"
      },
      "execution_count": 38,
      "outputs": [
        {
          "output_type": "stream",
          "name": "stdout",
          "text": [
            "Epoch 1/80\n",
            "16/16 [==============================] - 1s 15ms/step - loss: 0.6142 - accuracy: 0.7169 - val_loss: 0.5753 - val_accuracy: 0.7642\n",
            "Epoch 2/80\n",
            "16/16 [==============================] - 0s 4ms/step - loss: 0.5526 - accuracy: 0.7352 - val_loss: 0.5301 - val_accuracy: 0.7561\n",
            "Epoch 3/80\n",
            "16/16 [==============================] - 0s 3ms/step - loss: 0.5207 - accuracy: 0.7576 - val_loss: 0.5085 - val_accuracy: 0.7480\n",
            "Epoch 4/80\n",
            "16/16 [==============================] - 0s 4ms/step - loss: 0.5014 - accuracy: 0.7515 - val_loss: 0.4955 - val_accuracy: 0.7561\n",
            "Epoch 5/80\n",
            "16/16 [==============================] - 0s 3ms/step - loss: 0.4874 - accuracy: 0.7637 - val_loss: 0.4885 - val_accuracy: 0.7642\n",
            "Epoch 6/80\n",
            "16/16 [==============================] - 0s 4ms/step - loss: 0.4776 - accuracy: 0.7678 - val_loss: 0.4825 - val_accuracy: 0.7642\n",
            "Epoch 7/80\n",
            "16/16 [==============================] - 0s 3ms/step - loss: 0.4705 - accuracy: 0.7719 - val_loss: 0.4806 - val_accuracy: 0.7724\n",
            "Epoch 8/80\n",
            "16/16 [==============================] - 0s 4ms/step - loss: 0.4639 - accuracy: 0.7821 - val_loss: 0.4810 - val_accuracy: 0.7724\n",
            "Epoch 9/80\n",
            "16/16 [==============================] - 0s 4ms/step - loss: 0.4586 - accuracy: 0.7841 - val_loss: 0.4806 - val_accuracy: 0.7805\n",
            "Epoch 10/80\n",
            "16/16 [==============================] - 0s 4ms/step - loss: 0.4551 - accuracy: 0.7841 - val_loss: 0.4790 - val_accuracy: 0.7805\n",
            "Epoch 11/80\n",
            "16/16 [==============================] - 0s 3ms/step - loss: 0.4510 - accuracy: 0.7800 - val_loss: 0.4800 - val_accuracy: 0.7886\n",
            "Epoch 12/80\n",
            "16/16 [==============================] - 0s 3ms/step - loss: 0.4473 - accuracy: 0.7902 - val_loss: 0.4806 - val_accuracy: 0.7886\n",
            "Epoch 13/80\n",
            "16/16 [==============================] - 0s 4ms/step - loss: 0.4434 - accuracy: 0.7902 - val_loss: 0.4811 - val_accuracy: 0.7886\n",
            "Epoch 14/80\n",
            "16/16 [==============================] - 0s 3ms/step - loss: 0.4398 - accuracy: 0.7821 - val_loss: 0.4806 - val_accuracy: 0.7642\n",
            "Epoch 15/80\n",
            "16/16 [==============================] - 0s 3ms/step - loss: 0.4375 - accuracy: 0.7902 - val_loss: 0.4857 - val_accuracy: 0.7805\n",
            "Epoch 16/80\n",
            "16/16 [==============================] - 0s 4ms/step - loss: 0.4342 - accuracy: 0.7841 - val_loss: 0.4891 - val_accuracy: 0.7886\n",
            "Epoch 17/80\n",
            "16/16 [==============================] - 0s 3ms/step - loss: 0.4303 - accuracy: 0.7841 - val_loss: 0.4838 - val_accuracy: 0.7805\n",
            "Epoch 18/80\n",
            "16/16 [==============================] - 0s 3ms/step - loss: 0.4283 - accuracy: 0.8004 - val_loss: 0.4885 - val_accuracy: 0.7805\n",
            "Epoch 19/80\n",
            "16/16 [==============================] - 0s 4ms/step - loss: 0.4252 - accuracy: 0.7923 - val_loss: 0.4902 - val_accuracy: 0.7724\n",
            "Epoch 20/80\n",
            "16/16 [==============================] - 0s 3ms/step - loss: 0.4223 - accuracy: 0.7902 - val_loss: 0.4911 - val_accuracy: 0.7724\n",
            "Epoch 21/80\n",
            "16/16 [==============================] - 0s 4ms/step - loss: 0.4204 - accuracy: 0.8024 - val_loss: 0.4944 - val_accuracy: 0.7724\n",
            "Epoch 22/80\n",
            "16/16 [==============================] - 0s 4ms/step - loss: 0.4163 - accuracy: 0.8045 - val_loss: 0.5020 - val_accuracy: 0.7886\n",
            "Epoch 23/80\n",
            "16/16 [==============================] - 0s 4ms/step - loss: 0.4152 - accuracy: 0.7963 - val_loss: 0.4989 - val_accuracy: 0.7724\n",
            "Epoch 24/80\n",
            "16/16 [==============================] - 0s 3ms/step - loss: 0.4120 - accuracy: 0.8004 - val_loss: 0.5030 - val_accuracy: 0.7805\n",
            "Epoch 25/80\n",
            "16/16 [==============================] - 0s 3ms/step - loss: 0.4105 - accuracy: 0.8024 - val_loss: 0.4986 - val_accuracy: 0.7805\n",
            "Epoch 26/80\n",
            "16/16 [==============================] - 0s 3ms/step - loss: 0.4084 - accuracy: 0.8045 - val_loss: 0.4969 - val_accuracy: 0.7805\n",
            "Epoch 27/80\n",
            "16/16 [==============================] - 0s 4ms/step - loss: 0.4055 - accuracy: 0.8086 - val_loss: 0.5044 - val_accuracy: 0.7886\n",
            "Epoch 28/80\n",
            "16/16 [==============================] - 0s 4ms/step - loss: 0.4045 - accuracy: 0.8045 - val_loss: 0.5067 - val_accuracy: 0.7886\n",
            "Epoch 29/80\n",
            "16/16 [==============================] - 0s 3ms/step - loss: 0.4012 - accuracy: 0.8086 - val_loss: 0.5005 - val_accuracy: 0.7886\n",
            "Epoch 30/80\n",
            "16/16 [==============================] - 0s 4ms/step - loss: 0.4007 - accuracy: 0.7984 - val_loss: 0.5095 - val_accuracy: 0.7805\n",
            "Epoch 31/80\n",
            "16/16 [==============================] - 0s 4ms/step - loss: 0.3983 - accuracy: 0.8086 - val_loss: 0.5152 - val_accuracy: 0.7886\n",
            "Epoch 32/80\n",
            "16/16 [==============================] - 0s 3ms/step - loss: 0.3970 - accuracy: 0.8086 - val_loss: 0.5143 - val_accuracy: 0.7805\n",
            "Epoch 33/80\n",
            "16/16 [==============================] - 0s 3ms/step - loss: 0.3952 - accuracy: 0.8147 - val_loss: 0.5094 - val_accuracy: 0.7886\n",
            "Epoch 34/80\n",
            "16/16 [==============================] - 0s 3ms/step - loss: 0.3922 - accuracy: 0.8187 - val_loss: 0.5172 - val_accuracy: 0.7886\n",
            "Epoch 35/80\n",
            "16/16 [==============================] - 0s 3ms/step - loss: 0.3906 - accuracy: 0.8208 - val_loss: 0.5161 - val_accuracy: 0.7805\n",
            "Epoch 36/80\n",
            "16/16 [==============================] - 0s 3ms/step - loss: 0.3892 - accuracy: 0.8147 - val_loss: 0.5209 - val_accuracy: 0.7886\n",
            "Epoch 37/80\n",
            "16/16 [==============================] - 0s 3ms/step - loss: 0.3871 - accuracy: 0.8187 - val_loss: 0.5168 - val_accuracy: 0.7886\n",
            "Epoch 38/80\n",
            "16/16 [==============================] - 0s 5ms/step - loss: 0.3852 - accuracy: 0.8228 - val_loss: 0.5202 - val_accuracy: 0.7886\n",
            "Epoch 39/80\n",
            "16/16 [==============================] - 0s 3ms/step - loss: 0.3832 - accuracy: 0.8228 - val_loss: 0.5195 - val_accuracy: 0.7805\n",
            "Epoch 40/80\n",
            "16/16 [==============================] - 0s 3ms/step - loss: 0.3818 - accuracy: 0.8248 - val_loss: 0.5281 - val_accuracy: 0.7886\n",
            "Epoch 41/80\n",
            "16/16 [==============================] - 0s 4ms/step - loss: 0.3795 - accuracy: 0.8228 - val_loss: 0.5282 - val_accuracy: 0.7967\n",
            "Epoch 42/80\n",
            "16/16 [==============================] - 0s 3ms/step - loss: 0.3782 - accuracy: 0.8187 - val_loss: 0.5214 - val_accuracy: 0.7724\n",
            "Epoch 43/80\n",
            "16/16 [==============================] - 0s 4ms/step - loss: 0.3775 - accuracy: 0.8289 - val_loss: 0.5297 - val_accuracy: 0.7886\n",
            "Epoch 44/80\n",
            "16/16 [==============================] - 0s 4ms/step - loss: 0.3764 - accuracy: 0.8248 - val_loss: 0.5341 - val_accuracy: 0.7967\n",
            "Epoch 45/80\n",
            "16/16 [==============================] - 0s 4ms/step - loss: 0.3737 - accuracy: 0.8228 - val_loss: 0.5286 - val_accuracy: 0.7805\n",
            "Epoch 46/80\n",
            "16/16 [==============================] - 0s 4ms/step - loss: 0.3723 - accuracy: 0.8350 - val_loss: 0.5363 - val_accuracy: 0.7886\n",
            "Epoch 47/80\n",
            "16/16 [==============================] - 0s 4ms/step - loss: 0.3705 - accuracy: 0.8289 - val_loss: 0.5323 - val_accuracy: 0.7886\n",
            "Epoch 48/80\n",
            "16/16 [==============================] - 0s 3ms/step - loss: 0.3706 - accuracy: 0.8269 - val_loss: 0.5369 - val_accuracy: 0.7886\n",
            "Epoch 49/80\n",
            "16/16 [==============================] - 0s 4ms/step - loss: 0.3674 - accuracy: 0.8350 - val_loss: 0.5379 - val_accuracy: 0.7886\n",
            "Epoch 50/80\n",
            "16/16 [==============================] - 0s 4ms/step - loss: 0.3670 - accuracy: 0.8248 - val_loss: 0.5370 - val_accuracy: 0.7886\n",
            "Epoch 51/80\n",
            "16/16 [==============================] - 0s 4ms/step - loss: 0.3633 - accuracy: 0.8330 - val_loss: 0.5368 - val_accuracy: 0.7805\n",
            "Epoch 52/80\n",
            "16/16 [==============================] - 0s 3ms/step - loss: 0.3631 - accuracy: 0.8310 - val_loss: 0.5444 - val_accuracy: 0.7886\n",
            "Epoch 53/80\n",
            "16/16 [==============================] - 0s 3ms/step - loss: 0.3631 - accuracy: 0.8248 - val_loss: 0.5439 - val_accuracy: 0.7886\n",
            "Epoch 54/80\n",
            "16/16 [==============================] - 0s 3ms/step - loss: 0.3603 - accuracy: 0.8310 - val_loss: 0.5446 - val_accuracy: 0.7805\n",
            "Epoch 55/80\n",
            "16/16 [==============================] - 0s 4ms/step - loss: 0.3595 - accuracy: 0.8371 - val_loss: 0.5403 - val_accuracy: 0.7805\n",
            "Epoch 56/80\n",
            "16/16 [==============================] - 0s 4ms/step - loss: 0.3567 - accuracy: 0.8411 - val_loss: 0.5430 - val_accuracy: 0.7886\n",
            "Epoch 57/80\n",
            "16/16 [==============================] - 0s 5ms/step - loss: 0.3554 - accuracy: 0.8371 - val_loss: 0.5500 - val_accuracy: 0.7886\n",
            "Epoch 58/80\n",
            "16/16 [==============================] - 0s 3ms/step - loss: 0.3540 - accuracy: 0.8411 - val_loss: 0.5515 - val_accuracy: 0.7805\n",
            "Epoch 59/80\n",
            "16/16 [==============================] - 0s 3ms/step - loss: 0.3524 - accuracy: 0.8371 - val_loss: 0.5531 - val_accuracy: 0.7805\n",
            "Epoch 60/80\n",
            "16/16 [==============================] - 0s 4ms/step - loss: 0.3502 - accuracy: 0.8411 - val_loss: 0.5511 - val_accuracy: 0.7805\n",
            "Epoch 61/80\n",
            "16/16 [==============================] - 0s 4ms/step - loss: 0.3491 - accuracy: 0.8391 - val_loss: 0.5611 - val_accuracy: 0.7886\n",
            "Epoch 62/80\n",
            "16/16 [==============================] - 0s 3ms/step - loss: 0.3501 - accuracy: 0.8391 - val_loss: 0.5590 - val_accuracy: 0.7886\n",
            "Epoch 63/80\n",
            "16/16 [==============================] - 0s 4ms/step - loss: 0.3461 - accuracy: 0.8432 - val_loss: 0.5593 - val_accuracy: 0.7886\n",
            "Epoch 64/80\n",
            "16/16 [==============================] - 0s 3ms/step - loss: 0.3455 - accuracy: 0.8452 - val_loss: 0.5696 - val_accuracy: 0.7724\n",
            "Epoch 65/80\n",
            "16/16 [==============================] - 0s 3ms/step - loss: 0.3435 - accuracy: 0.8391 - val_loss: 0.5594 - val_accuracy: 0.7886\n",
            "Epoch 66/80\n",
            "16/16 [==============================] - 0s 4ms/step - loss: 0.3427 - accuracy: 0.8452 - val_loss: 0.5632 - val_accuracy: 0.7805\n",
            "Epoch 67/80\n",
            "16/16 [==============================] - 0s 4ms/step - loss: 0.3418 - accuracy: 0.8391 - val_loss: 0.5659 - val_accuracy: 0.7805\n",
            "Epoch 68/80\n",
            "16/16 [==============================] - 0s 4ms/step - loss: 0.3402 - accuracy: 0.8452 - val_loss: 0.5667 - val_accuracy: 0.7805\n",
            "Epoch 69/80\n",
            "16/16 [==============================] - 0s 3ms/step - loss: 0.3395 - accuracy: 0.8432 - val_loss: 0.5619 - val_accuracy: 0.7886\n",
            "Epoch 70/80\n",
            "16/16 [==============================] - 0s 3ms/step - loss: 0.3376 - accuracy: 0.8432 - val_loss: 0.5736 - val_accuracy: 0.7724\n",
            "Epoch 71/80\n",
            "16/16 [==============================] - 0s 4ms/step - loss: 0.3362 - accuracy: 0.8411 - val_loss: 0.5810 - val_accuracy: 0.7724\n",
            "Epoch 72/80\n",
            "16/16 [==============================] - 0s 3ms/step - loss: 0.3350 - accuracy: 0.8391 - val_loss: 0.5678 - val_accuracy: 0.7805\n",
            "Epoch 73/80\n",
            "16/16 [==============================] - 0s 3ms/step - loss: 0.3336 - accuracy: 0.8473 - val_loss: 0.5720 - val_accuracy: 0.7886\n",
            "Epoch 74/80\n",
            "16/16 [==============================] - 0s 4ms/step - loss: 0.3323 - accuracy: 0.8493 - val_loss: 0.5812 - val_accuracy: 0.7724\n",
            "Epoch 75/80\n",
            "16/16 [==============================] - 0s 4ms/step - loss: 0.3296 - accuracy: 0.8493 - val_loss: 0.5720 - val_accuracy: 0.7724\n",
            "Epoch 76/80\n",
            "16/16 [==============================] - 0s 3ms/step - loss: 0.3301 - accuracy: 0.8473 - val_loss: 0.5832 - val_accuracy: 0.7805\n",
            "Epoch 77/80\n",
            "16/16 [==============================] - 0s 4ms/step - loss: 0.3283 - accuracy: 0.8493 - val_loss: 0.5811 - val_accuracy: 0.7724\n",
            "Epoch 78/80\n",
            "16/16 [==============================] - 0s 3ms/step - loss: 0.3280 - accuracy: 0.8554 - val_loss: 0.5866 - val_accuracy: 0.7724\n",
            "Epoch 79/80\n",
            "16/16 [==============================] - 0s 3ms/step - loss: 0.3256 - accuracy: 0.8493 - val_loss: 0.5867 - val_accuracy: 0.7724\n",
            "Epoch 80/80\n",
            "16/16 [==============================] - 0s 4ms/step - loss: 0.3230 - accuracy: 0.8452 - val_loss: 0.5891 - val_accuracy: 0.7724\n"
          ]
        }
      ]
    },
    {
      "cell_type": "code",
      "source": [
        "#plot the loss and validation loss of the dataset\n",
        "history_df = pd.DataFrame(history.history)\n",
        "plt.plot(history_df['loss'], label='loss')\n",
        "plt.plot(history_df['val_loss'], label='val_loss')\n",
        "\n",
        "plt.legend()"
      ],
      "metadata": {
        "colab": {
          "base_uri": "https://localhost:8080/",
          "height": 282
        },
        "id": "W1MM9Tk1I9dt",
        "outputId": "4ba13d41-fbb9-4849-db63-4d78b265563e"
      },
      "execution_count": 39,
      "outputs": [
        {
          "output_type": "execute_result",
          "data": {
            "text/plain": [
              "<matplotlib.legend.Legend at 0x7fbff6079cd0>"
            ]
          },
          "metadata": {},
          "execution_count": 39
        },
        {
          "output_type": "display_data",
          "data": {
            "image/png": "[encoded data removed]",
            "text/plain": [
              "<Figure size 432x288 with 1 Axes>"
            ]
          },
          "metadata": {
            "needs_background": "light"
          }
        }
      ]
    },
    {
      "cell_type": "code",
      "source": [
        "plt.plot(history_df['accuracy'], label='acc')\n",
        "plt.plot(history_df['val_accuracy'], label='val_acc')\n",
        "\n",
        "plt.legend()"
      ],
      "metadata": {
        "colab": {
          "base_uri": "https://localhost:8080/",
          "height": 283
        },
        "id": "4qwFPb_2JDVv",
        "outputId": "73e8b623-1115-4751-fea4-1228487bf7f7"
      },
      "execution_count": 40,
      "outputs": [
        {
          "output_type": "execute_result",
          "data": {
            "text/plain": [
              "<matplotlib.legend.Legend at 0x7fbff96fde90>"
            ]
          },
          "metadata": {},
          "execution_count": 40
        },
        {
          "output_type": "display_data",
          "data": {
            "image/png": "[encoded data removed]",
            "text/plain": [
              "<Figure size 432x288 with 1 Axes>"
            ]
          },
          "metadata": {
            "needs_background": "light"
          }
        }
      ]
    },
    {
      "cell_type": "code",
      "source": [
        "#Prediction\n",
        "y_pred = model.predict(X_test)"
      ],
      "metadata": {
        "id": "ddubecC4JK2x"
      },
      "execution_count": 41,
      "outputs": []
    },
    {
      "cell_type": "code",
      "source": [
        "y_test"
      ],
      "metadata": {
        "id": "cTyd_UWeJOaQ"
      },
      "execution_count": null,
      "outputs": []
    },
    {
      "cell_type": "code",
      "source": [
        "y_pred"
      ],
      "metadata": {
        "id": "aDb2xZ4ZJVVK"
      },
      "execution_count": null,
      "outputs": []
    },
    {
      "cell_type": "code",
      "source": [
        "y_pred = y_pred > 0.5\n",
        "y_pred"
      ],
      "metadata": {
        "id": "-k0gWvurJaBQ"
      },
      "execution_count": null,
      "outputs": []
    },
    {
      "cell_type": "code",
      "source": [
        "pred = y_pred.astype('uint8')\n",
        "pred"
      ],
      "metadata": {
        "id": "lresjG6TJe1C"
      },
      "execution_count": null,
      "outputs": []
    },
    {
      "cell_type": "code",
      "source": [
        "import pandas as pd\n",
        "from sklearn.metrics import classification_report\n",
        "#Classification Report\n",
        "print(classification_report(y_test,y_pred))"
      ],
      "metadata": {
        "colab": {
          "base_uri": "https://localhost:8080/"
        },
        "id": "S_1fUEs3Jkh2",
        "outputId": "602af4e7-c241-4db7-b99f-213f987eb531"
      },
      "execution_count": 47,
      "outputs": [
        {
          "output_type": "stream",
          "name": "stdout",
          "text": [
            "              precision    recall  f1-score   support\n",
            "\n",
            "         0.0       0.82      0.86      0.84       107\n",
            "         1.0       0.64      0.57      0.61        47\n",
            "\n",
            "    accuracy                           0.77       154\n",
            "   macro avg       0.73      0.72      0.72       154\n",
            "weighted avg       0.77      0.77      0.77       154\n",
            "\n"
          ]
        }
      ]
    },
    {
      "cell_type": "markdown",
      "source": [
        "## Result Analysis\n",
        "\n",
        "In this project, Deep Neural Network model is used to classify the Diabetes dataset and classification evaluation matrices were used to evaluate the model.\n",
        "The classification report of the model is given below:\n",
        "\n",
        "              precision    recall  f1-score   support\n",
        "\n",
        "         0.0       0.82      0.86      0.84       107\n",
        "         1.0       0.64      0.57      0.61        47\n",
        "    accuracy                           0.77       154\n",
        "\n",
        "The accuracy of the used model is 77%. "
      ],
      "metadata": {
        "id": "Ct-gc5DE4hGs"
      }
    },
    {
      "cell_type": "markdown",
      "source": [
        "## Discussion\n",
        "The classification of the \"Diabetes Dataset\" using a Deep Neural Network model is completed in this project. The libraries for implementing the Deep Learning model were chosen first. Dense layers and Sigmoid activation function were used to create a sequential DNN model. The RMSProp optimizer was employed, as well as a binary cross-entrophy loss function. Precision, Recall, and F1-Score were utilized to evaluate the model using the Confusion Matrix. The correctness of the classification report library function was also tested. The dataset was preprocessed, such as encoded, missing file fillup, and feature scaling, before being trained in a DNN model."
      ],
      "metadata": {
        "id": "vYgjG34M7OjB"
      }
    }
  ]
}